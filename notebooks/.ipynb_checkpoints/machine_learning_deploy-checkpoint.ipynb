{
 "cells": [
  {
   "cell_type": "markdown",
   "id": "60343520",
   "metadata": {},
   "source": [
    "## Stack - Bootcamp de Data Science"
   ]
  },
  {
   "cell_type": "markdown",
   "id": "1b1bad41",
   "metadata": {},
   "source": [
    "### Machine Learning."
   ]
  },
  {
   "cell_type": "code",
   "execution_count": 1,
   "id": "8d9b163d",
   "metadata": {},
   "outputs": [],
   "source": [
    "import pandas as pd\n",
    "import datetime\n",
    "import glob\n",
    "from minio import Minio\n",
    "import numpy as np\n",
    "import matplotlib.pyplot as plt"
   ]
  },
  {
   "cell_type": "code",
   "execution_count": 2,
   "id": "f5274952",
   "metadata": {},
   "outputs": [],
   "source": [
    "client = Minio(\n",
    "        \"localhost:9000\",\n",
    "        access_key=\"minioadmin\",\n",
    "        secret_key=\"minioadmin\",\n",
    "        secure=False\n",
    "    )"
   ]
  },
  {
   "cell_type": "markdown",
   "id": "838ed69f",
   "metadata": {},
   "source": [
    "### Baixando o Dataset do Data Lake."
   ]
  },
  {
   "cell_type": "code",
   "execution_count": 3,
   "id": "bfa60edd",
   "metadata": {},
   "outputs": [],
   "source": [
    "client.fget_object(\n",
    "            \"processing\",\n",
    "            \"employees_dataset.parquet\",\n",
    "            \"temp_.parquet\",\n",
    ")\n",
    "df = pd.read_parquet(\"temp_.parquet\")"
   ]
  },
  {
   "cell_type": "code",
   "execution_count": 4,
   "id": "22142337",
   "metadata": {
    "scrolled": true
   },
   "outputs": [
    {
     "data": {
      "text/html": [
       "<div>\n",
       "<style scoped>\n",
       "    .dataframe tbody tr th:only-of-type {\n",
       "        vertical-align: middle;\n",
       "    }\n",
       "\n",
       "    .dataframe tbody tr th {\n",
       "        vertical-align: top;\n",
       "    }\n",
       "\n",
       "    .dataframe thead th {\n",
       "        text-align: right;\n",
       "    }\n",
       "</style>\n",
       "<table border=\"1\" class=\"dataframe\">\n",
       "  <thead>\n",
       "    <tr style=\"text-align: right;\">\n",
       "      <th></th>\n",
       "      <th>department</th>\n",
       "      <th>salary</th>\n",
       "      <th>left</th>\n",
       "      <th>mean_work_last_3_months</th>\n",
       "      <th>number_projects</th>\n",
       "      <th>satisfaction_level</th>\n",
       "      <th>last_evaluation</th>\n",
       "      <th>time_in_company</th>\n",
       "      <th>work_accident</th>\n",
       "    </tr>\n",
       "  </thead>\n",
       "  <tbody>\n",
       "    <tr>\n",
       "      <th>0</th>\n",
       "      <td>sales</td>\n",
       "      <td>low</td>\n",
       "      <td>1.0</td>\n",
       "      <td>266.000000</td>\n",
       "      <td>2.0</td>\n",
       "      <td>38.0</td>\n",
       "      <td>53.0</td>\n",
       "      <td>3.0</td>\n",
       "      <td>0.0</td>\n",
       "    </tr>\n",
       "    <tr>\n",
       "      <th>1</th>\n",
       "      <td>sales</td>\n",
       "      <td>medium</td>\n",
       "      <td>1.0</td>\n",
       "      <td>252.000000</td>\n",
       "      <td>5.0</td>\n",
       "      <td>80.0</td>\n",
       "      <td>86.0</td>\n",
       "      <td>6.0</td>\n",
       "      <td>0.0</td>\n",
       "    </tr>\n",
       "    <tr>\n",
       "      <th>2</th>\n",
       "      <td>sales</td>\n",
       "      <td>medium</td>\n",
       "      <td>1.0</td>\n",
       "      <td>289.666667</td>\n",
       "      <td>7.0</td>\n",
       "      <td>11.0</td>\n",
       "      <td>88.0</td>\n",
       "      <td>4.0</td>\n",
       "      <td>0.0</td>\n",
       "    </tr>\n",
       "    <tr>\n",
       "      <th>3</th>\n",
       "      <td>sales</td>\n",
       "      <td>low</td>\n",
       "      <td>1.0</td>\n",
       "      <td>275.666667</td>\n",
       "      <td>5.0</td>\n",
       "      <td>72.0</td>\n",
       "      <td>87.0</td>\n",
       "      <td>5.0</td>\n",
       "      <td>0.0</td>\n",
       "    </tr>\n",
       "    <tr>\n",
       "      <th>4</th>\n",
       "      <td>sales</td>\n",
       "      <td>low</td>\n",
       "      <td>1.0</td>\n",
       "      <td>292.333333</td>\n",
       "      <td>2.0</td>\n",
       "      <td>37.0</td>\n",
       "      <td>52.0</td>\n",
       "      <td>3.0</td>\n",
       "      <td>0.0</td>\n",
       "    </tr>\n",
       "  </tbody>\n",
       "</table>\n",
       "</div>"
      ],
      "text/plain": [
       "  department  salary  left  mean_work_last_3_months  number_projects  \\\n",
       "0      sales     low   1.0               266.000000              2.0   \n",
       "1      sales  medium   1.0               252.000000              5.0   \n",
       "2      sales  medium   1.0               289.666667              7.0   \n",
       "3      sales     low   1.0               275.666667              5.0   \n",
       "4      sales     low   1.0               292.333333              2.0   \n",
       "\n",
       "   satisfaction_level  last_evaluation  time_in_company  work_accident  \n",
       "0                38.0             53.0              3.0            0.0  \n",
       "1                80.0             86.0              6.0            0.0  \n",
       "2                11.0             88.0              4.0            0.0  \n",
       "3                72.0             87.0              5.0            0.0  \n",
       "4                37.0             52.0              3.0            0.0  "
      ]
     },
     "execution_count": 4,
     "metadata": {},
     "output_type": "execute_result"
    }
   ],
   "source": [
    "df.head()"
   ]
  },
  {
   "cell_type": "markdown",
   "id": "fc2fa009",
   "metadata": {},
   "source": [
    "#### Organizando o dataset."
   ]
  },
  {
   "cell_type": "code",
   "execution_count": 5,
   "id": "2f5b7a35",
   "metadata": {},
   "outputs": [],
   "source": [
    "df = df[['department', 'salary', 'mean_work_last_3_months',\n",
    "       'number_projects', 'satisfaction_level', 'last_evaluation',\n",
    "       'time_in_company', 'work_accident','left']]"
   ]
  },
  {
   "cell_type": "code",
   "execution_count": 6,
   "id": "b95448bd",
   "metadata": {
    "scrolled": true
   },
   "outputs": [
    {
     "data": {
      "text/html": [
       "<div>\n",
       "<style scoped>\n",
       "    .dataframe tbody tr th:only-of-type {\n",
       "        vertical-align: middle;\n",
       "    }\n",
       "\n",
       "    .dataframe tbody tr th {\n",
       "        vertical-align: top;\n",
       "    }\n",
       "\n",
       "    .dataframe thead th {\n",
       "        text-align: right;\n",
       "    }\n",
       "</style>\n",
       "<table border=\"1\" class=\"dataframe\">\n",
       "  <thead>\n",
       "    <tr style=\"text-align: right;\">\n",
       "      <th></th>\n",
       "      <th>department</th>\n",
       "      <th>salary</th>\n",
       "      <th>mean_work_last_3_months</th>\n",
       "      <th>number_projects</th>\n",
       "      <th>satisfaction_level</th>\n",
       "      <th>last_evaluation</th>\n",
       "      <th>time_in_company</th>\n",
       "      <th>work_accident</th>\n",
       "      <th>left</th>\n",
       "    </tr>\n",
       "  </thead>\n",
       "  <tbody>\n",
       "    <tr>\n",
       "      <th>0</th>\n",
       "      <td>sales</td>\n",
       "      <td>low</td>\n",
       "      <td>266.000000</td>\n",
       "      <td>2.0</td>\n",
       "      <td>38.0</td>\n",
       "      <td>53.0</td>\n",
       "      <td>3.0</td>\n",
       "      <td>0.0</td>\n",
       "      <td>1.0</td>\n",
       "    </tr>\n",
       "    <tr>\n",
       "      <th>1</th>\n",
       "      <td>sales</td>\n",
       "      <td>medium</td>\n",
       "      <td>252.000000</td>\n",
       "      <td>5.0</td>\n",
       "      <td>80.0</td>\n",
       "      <td>86.0</td>\n",
       "      <td>6.0</td>\n",
       "      <td>0.0</td>\n",
       "      <td>1.0</td>\n",
       "    </tr>\n",
       "    <tr>\n",
       "      <th>2</th>\n",
       "      <td>sales</td>\n",
       "      <td>medium</td>\n",
       "      <td>289.666667</td>\n",
       "      <td>7.0</td>\n",
       "      <td>11.0</td>\n",
       "      <td>88.0</td>\n",
       "      <td>4.0</td>\n",
       "      <td>0.0</td>\n",
       "      <td>1.0</td>\n",
       "    </tr>\n",
       "    <tr>\n",
       "      <th>3</th>\n",
       "      <td>sales</td>\n",
       "      <td>low</td>\n",
       "      <td>275.666667</td>\n",
       "      <td>5.0</td>\n",
       "      <td>72.0</td>\n",
       "      <td>87.0</td>\n",
       "      <td>5.0</td>\n",
       "      <td>0.0</td>\n",
       "      <td>1.0</td>\n",
       "    </tr>\n",
       "    <tr>\n",
       "      <th>4</th>\n",
       "      <td>sales</td>\n",
       "      <td>low</td>\n",
       "      <td>292.333333</td>\n",
       "      <td>2.0</td>\n",
       "      <td>37.0</td>\n",
       "      <td>52.0</td>\n",
       "      <td>3.0</td>\n",
       "      <td>0.0</td>\n",
       "      <td>1.0</td>\n",
       "    </tr>\n",
       "  </tbody>\n",
       "</table>\n",
       "</div>"
      ],
      "text/plain": [
       "  department  salary  mean_work_last_3_months  number_projects  \\\n",
       "0      sales     low               266.000000              2.0   \n",
       "1      sales  medium               252.000000              5.0   \n",
       "2      sales  medium               289.666667              7.0   \n",
       "3      sales     low               275.666667              5.0   \n",
       "4      sales     low               292.333333              2.0   \n",
       "\n",
       "   satisfaction_level  last_evaluation  time_in_company  work_accident  left  \n",
       "0                38.0             53.0              3.0            0.0   1.0  \n",
       "1                80.0             86.0              6.0            0.0   1.0  \n",
       "2                11.0             88.0              4.0            0.0   1.0  \n",
       "3                72.0             87.0              5.0            0.0   1.0  \n",
       "4                37.0             52.0              3.0            0.0   1.0  "
      ]
     },
     "execution_count": 6,
     "metadata": {},
     "output_type": "execute_result"
    }
   ],
   "source": [
    "df.head()"
   ]
  },
  {
   "cell_type": "markdown",
   "id": "2b4fa52c",
   "metadata": {},
   "source": [
    "#### Verificando os registros missing."
   ]
  },
  {
   "cell_type": "code",
   "execution_count": 7,
   "id": "65e92b9c",
   "metadata": {},
   "outputs": [
    {
     "data": {
      "text/plain": [
       "department                 1\n",
       "salary                     1\n",
       "mean_work_last_3_months    0\n",
       "number_projects            1\n",
       "satisfaction_level         1\n",
       "last_evaluation            1\n",
       "time_in_company            1\n",
       "work_accident              1\n",
       "left                       1\n",
       "dtype: int64"
      ]
     },
     "execution_count": 7,
     "metadata": {},
     "output_type": "execute_result"
    }
   ],
   "source": [
    "df.isnull().sum()"
   ]
  },
  {
   "cell_type": "code",
   "execution_count": 8,
   "id": "a6559f2c",
   "metadata": {},
   "outputs": [
    {
     "data": {
      "text/html": [
       "<div>\n",
       "<style scoped>\n",
       "    .dataframe tbody tr th:only-of-type {\n",
       "        vertical-align: middle;\n",
       "    }\n",
       "\n",
       "    .dataframe tbody tr th {\n",
       "        vertical-align: top;\n",
       "    }\n",
       "\n",
       "    .dataframe thead th {\n",
       "        text-align: right;\n",
       "    }\n",
       "</style>\n",
       "<table border=\"1\" class=\"dataframe\">\n",
       "  <thead>\n",
       "    <tr style=\"text-align: right;\">\n",
       "      <th></th>\n",
       "      <th>department</th>\n",
       "      <th>salary</th>\n",
       "      <th>mean_work_last_3_months</th>\n",
       "      <th>number_projects</th>\n",
       "      <th>satisfaction_level</th>\n",
       "      <th>last_evaluation</th>\n",
       "      <th>time_in_company</th>\n",
       "      <th>work_accident</th>\n",
       "      <th>left</th>\n",
       "    </tr>\n",
       "  </thead>\n",
       "  <tbody>\n",
       "    <tr>\n",
       "      <th>0</th>\n",
       "      <td>sales</td>\n",
       "      <td>low</td>\n",
       "      <td>266.000000</td>\n",
       "      <td>2.0</td>\n",
       "      <td>38.0</td>\n",
       "      <td>53.0</td>\n",
       "      <td>3.0</td>\n",
       "      <td>0.0</td>\n",
       "      <td>1.0</td>\n",
       "    </tr>\n",
       "    <tr>\n",
       "      <th>1</th>\n",
       "      <td>sales</td>\n",
       "      <td>medium</td>\n",
       "      <td>252.000000</td>\n",
       "      <td>5.0</td>\n",
       "      <td>80.0</td>\n",
       "      <td>86.0</td>\n",
       "      <td>6.0</td>\n",
       "      <td>0.0</td>\n",
       "      <td>1.0</td>\n",
       "    </tr>\n",
       "    <tr>\n",
       "      <th>2</th>\n",
       "      <td>sales</td>\n",
       "      <td>medium</td>\n",
       "      <td>289.666667</td>\n",
       "      <td>7.0</td>\n",
       "      <td>11.0</td>\n",
       "      <td>88.0</td>\n",
       "      <td>4.0</td>\n",
       "      <td>0.0</td>\n",
       "      <td>1.0</td>\n",
       "    </tr>\n",
       "    <tr>\n",
       "      <th>3</th>\n",
       "      <td>sales</td>\n",
       "      <td>low</td>\n",
       "      <td>275.666667</td>\n",
       "      <td>5.0</td>\n",
       "      <td>72.0</td>\n",
       "      <td>87.0</td>\n",
       "      <td>5.0</td>\n",
       "      <td>0.0</td>\n",
       "      <td>1.0</td>\n",
       "    </tr>\n",
       "    <tr>\n",
       "      <th>4</th>\n",
       "      <td>sales</td>\n",
       "      <td>low</td>\n",
       "      <td>292.333333</td>\n",
       "      <td>2.0</td>\n",
       "      <td>37.0</td>\n",
       "      <td>52.0</td>\n",
       "      <td>3.0</td>\n",
       "      <td>0.0</td>\n",
       "      <td>1.0</td>\n",
       "    </tr>\n",
       "    <tr>\n",
       "      <th>...</th>\n",
       "      <td>...</td>\n",
       "      <td>...</td>\n",
       "      <td>...</td>\n",
       "      <td>...</td>\n",
       "      <td>...</td>\n",
       "      <td>...</td>\n",
       "      <td>...</td>\n",
       "      <td>...</td>\n",
       "      <td>...</td>\n",
       "    </tr>\n",
       "    <tr>\n",
       "      <th>14995</th>\n",
       "      <td>technical</td>\n",
       "      <td>low</td>\n",
       "      <td>253.333333</td>\n",
       "      <td>2.0</td>\n",
       "      <td>37.0</td>\n",
       "      <td>48.0</td>\n",
       "      <td>3.0</td>\n",
       "      <td>0.0</td>\n",
       "      <td>1.0</td>\n",
       "    </tr>\n",
       "    <tr>\n",
       "      <th>14996</th>\n",
       "      <td>technical</td>\n",
       "      <td>medium</td>\n",
       "      <td>288.000000</td>\n",
       "      <td>2.0</td>\n",
       "      <td>37.0</td>\n",
       "      <td>53.0</td>\n",
       "      <td>3.0</td>\n",
       "      <td>0.0</td>\n",
       "      <td>1.0</td>\n",
       "    </tr>\n",
       "    <tr>\n",
       "      <th>14997</th>\n",
       "      <td>support</td>\n",
       "      <td>low</td>\n",
       "      <td>272.000000</td>\n",
       "      <td>6.0</td>\n",
       "      <td>11.0</td>\n",
       "      <td>96.0</td>\n",
       "      <td>4.0</td>\n",
       "      <td>0.0</td>\n",
       "      <td>1.0</td>\n",
       "    </tr>\n",
       "    <tr>\n",
       "      <th>14998</th>\n",
       "      <td>support</td>\n",
       "      <td>low</td>\n",
       "      <td>276.666667</td>\n",
       "      <td>2.0</td>\n",
       "      <td>37.0</td>\n",
       "      <td>52.0</td>\n",
       "      <td>3.0</td>\n",
       "      <td>0.0</td>\n",
       "      <td>1.0</td>\n",
       "    </tr>\n",
       "    <tr>\n",
       "      <th>14999</th>\n",
       "      <td>NaN</td>\n",
       "      <td>NaN</td>\n",
       "      <td>261.000000</td>\n",
       "      <td>NaN</td>\n",
       "      <td>NaN</td>\n",
       "      <td>NaN</td>\n",
       "      <td>NaN</td>\n",
       "      <td>NaN</td>\n",
       "      <td>NaN</td>\n",
       "    </tr>\n",
       "  </tbody>\n",
       "</table>\n",
       "<p>15000 rows × 9 columns</p>\n",
       "</div>"
      ],
      "text/plain": [
       "      department  salary  mean_work_last_3_months  number_projects  \\\n",
       "0          sales     low               266.000000              2.0   \n",
       "1          sales  medium               252.000000              5.0   \n",
       "2          sales  medium               289.666667              7.0   \n",
       "3          sales     low               275.666667              5.0   \n",
       "4          sales     low               292.333333              2.0   \n",
       "...          ...     ...                      ...              ...   \n",
       "14995  technical     low               253.333333              2.0   \n",
       "14996  technical  medium               288.000000              2.0   \n",
       "14997    support     low               272.000000              6.0   \n",
       "14998    support     low               276.666667              2.0   \n",
       "14999        NaN     NaN               261.000000              NaN   \n",
       "\n",
       "       satisfaction_level  last_evaluation  time_in_company  work_accident  \\\n",
       "0                    38.0             53.0              3.0            0.0   \n",
       "1                    80.0             86.0              6.0            0.0   \n",
       "2                    11.0             88.0              4.0            0.0   \n",
       "3                    72.0             87.0              5.0            0.0   \n",
       "4                    37.0             52.0              3.0            0.0   \n",
       "...                   ...              ...              ...            ...   \n",
       "14995                37.0             48.0              3.0            0.0   \n",
       "14996                37.0             53.0              3.0            0.0   \n",
       "14997                11.0             96.0              4.0            0.0   \n",
       "14998                37.0             52.0              3.0            0.0   \n",
       "14999                 NaN              NaN              NaN            NaN   \n",
       "\n",
       "       left  \n",
       "0       1.0  \n",
       "1       1.0  \n",
       "2       1.0  \n",
       "3       1.0  \n",
       "4       1.0  \n",
       "...     ...  \n",
       "14995   1.0  \n",
       "14996   1.0  \n",
       "14997   1.0  \n",
       "14998   1.0  \n",
       "14999   NaN  \n",
       "\n",
       "[15000 rows x 9 columns]"
      ]
     },
     "execution_count": 8,
     "metadata": {},
     "output_type": "execute_result"
    }
   ],
   "source": [
    "df[df.notnull()]"
   ]
  },
  {
   "cell_type": "code",
   "execution_count": 9,
   "id": "42ea9765",
   "metadata": {},
   "outputs": [],
   "source": [
    "df = df[:14998]"
   ]
  },
  {
   "cell_type": "markdown",
   "id": "6345aae2",
   "metadata": {},
   "source": [
    "#### Alterando os tipos de dados."
   ]
  },
  {
   "cell_type": "code",
   "execution_count": 10,
   "id": "3bed250e",
   "metadata": {},
   "outputs": [],
   "source": [
    "df[\"number_projects\"] = df[\"number_projects\"].astype(int)\n",
    "df[\"mean_work_last_3_months\"] = df[\"mean_work_last_3_months\"].astype(int)\n",
    "df[\"time_in_company\"] = df[\"time_in_company\"].astype(int)\n",
    "df[\"work_accident\"] = df[\"work_accident\"].astype(int)\n",
    "df[\"left\"] = df[\"left\"].astype(int)"
   ]
  },
  {
   "cell_type": "code",
   "execution_count": 11,
   "id": "d41aab97",
   "metadata": {},
   "outputs": [
    {
     "name": "stdout",
     "output_type": "stream",
     "text": [
      "<class 'pandas.core.frame.DataFrame'>\n",
      "RangeIndex: 14998 entries, 0 to 14997\n",
      "Data columns (total 9 columns):\n",
      " #   Column                   Non-Null Count  Dtype  \n",
      "---  ------                   --------------  -----  \n",
      " 0   department               14998 non-null  object \n",
      " 1   salary                   14998 non-null  object \n",
      " 2   mean_work_last_3_months  14998 non-null  int64  \n",
      " 3   number_projects          14998 non-null  int64  \n",
      " 4   satisfaction_level       14998 non-null  float64\n",
      " 5   last_evaluation          14998 non-null  float64\n",
      " 6   time_in_company          14998 non-null  int64  \n",
      " 7   work_accident            14998 non-null  int64  \n",
      " 8   left                     14998 non-null  int64  \n",
      "dtypes: float64(2), int64(5), object(2)\n",
      "memory usage: 1.0+ MB\n"
     ]
    }
   ],
   "source": [
    "df.info()"
   ]
  },
  {
   "cell_type": "code",
   "execution_count": 12,
   "id": "b3be9995",
   "metadata": {},
   "outputs": [
    {
     "data": {
      "text/html": [
       "<div>\n",
       "<style scoped>\n",
       "    .dataframe tbody tr th:only-of-type {\n",
       "        vertical-align: middle;\n",
       "    }\n",
       "\n",
       "    .dataframe tbody tr th {\n",
       "        vertical-align: top;\n",
       "    }\n",
       "\n",
       "    .dataframe thead th {\n",
       "        text-align: right;\n",
       "    }\n",
       "</style>\n",
       "<table border=\"1\" class=\"dataframe\">\n",
       "  <thead>\n",
       "    <tr style=\"text-align: right;\">\n",
       "      <th></th>\n",
       "      <th>department</th>\n",
       "      <th>salary</th>\n",
       "      <th>mean_work_last_3_months</th>\n",
       "      <th>number_projects</th>\n",
       "      <th>satisfaction_level</th>\n",
       "      <th>last_evaluation</th>\n",
       "      <th>time_in_company</th>\n",
       "      <th>work_accident</th>\n",
       "      <th>left</th>\n",
       "    </tr>\n",
       "  </thead>\n",
       "  <tbody>\n",
       "    <tr>\n",
       "      <th>0</th>\n",
       "      <td>sales</td>\n",
       "      <td>low</td>\n",
       "      <td>266</td>\n",
       "      <td>2</td>\n",
       "      <td>38.0</td>\n",
       "      <td>53.0</td>\n",
       "      <td>3</td>\n",
       "      <td>0</td>\n",
       "      <td>1</td>\n",
       "    </tr>\n",
       "    <tr>\n",
       "      <th>1</th>\n",
       "      <td>sales</td>\n",
       "      <td>medium</td>\n",
       "      <td>252</td>\n",
       "      <td>5</td>\n",
       "      <td>80.0</td>\n",
       "      <td>86.0</td>\n",
       "      <td>6</td>\n",
       "      <td>0</td>\n",
       "      <td>1</td>\n",
       "    </tr>\n",
       "    <tr>\n",
       "      <th>2</th>\n",
       "      <td>sales</td>\n",
       "      <td>medium</td>\n",
       "      <td>289</td>\n",
       "      <td>7</td>\n",
       "      <td>11.0</td>\n",
       "      <td>88.0</td>\n",
       "      <td>4</td>\n",
       "      <td>0</td>\n",
       "      <td>1</td>\n",
       "    </tr>\n",
       "    <tr>\n",
       "      <th>3</th>\n",
       "      <td>sales</td>\n",
       "      <td>low</td>\n",
       "      <td>275</td>\n",
       "      <td>5</td>\n",
       "      <td>72.0</td>\n",
       "      <td>87.0</td>\n",
       "      <td>5</td>\n",
       "      <td>0</td>\n",
       "      <td>1</td>\n",
       "    </tr>\n",
       "    <tr>\n",
       "      <th>4</th>\n",
       "      <td>sales</td>\n",
       "      <td>low</td>\n",
       "      <td>292</td>\n",
       "      <td>2</td>\n",
       "      <td>37.0</td>\n",
       "      <td>52.0</td>\n",
       "      <td>3</td>\n",
       "      <td>0</td>\n",
       "      <td>1</td>\n",
       "    </tr>\n",
       "  </tbody>\n",
       "</table>\n",
       "</div>"
      ],
      "text/plain": [
       "  department  salary  mean_work_last_3_months  number_projects  \\\n",
       "0      sales     low                      266                2   \n",
       "1      sales  medium                      252                5   \n",
       "2      sales  medium                      289                7   \n",
       "3      sales     low                      275                5   \n",
       "4      sales     low                      292                2   \n",
       "\n",
       "   satisfaction_level  last_evaluation  time_in_company  work_accident  left  \n",
       "0                38.0             53.0                3              0     1  \n",
       "1                80.0             86.0                6              0     1  \n",
       "2                11.0             88.0                4              0     1  \n",
       "3                72.0             87.0                5              0     1  \n",
       "4                37.0             52.0                3              0     1  "
      ]
     },
     "execution_count": 12,
     "metadata": {},
     "output_type": "execute_result"
    }
   ],
   "source": [
    "df.head()"
   ]
  },
  {
   "cell_type": "code",
   "execution_count": 13,
   "id": "4c53b942",
   "metadata": {},
   "outputs": [],
   "source": [
    "df = df[:14998]"
   ]
  },
  {
   "cell_type": "markdown",
   "id": "0732373c",
   "metadata": {},
   "source": [
    "#### Renomeando atributos"
   ]
  },
  {
   "cell_type": "code",
   "execution_count": 14,
   "id": "e51e02de",
   "metadata": {},
   "outputs": [],
   "source": [
    "df = df.rename(columns={'satisfaction_level': 'satisfaction', \n",
    "                        'last_evaluation': 'evaluation',\n",
    "                        'number_projects': 'projectCount',\n",
    "                        'mean_work_last_3_months': 'averageMonthlyHours',\n",
    "                        'time_in_company': 'yearsAtCompany',\n",
    "                        'work_accident': 'workAccident',\n",
    "                        'left' : 'turnover'\n",
    "                        })"
   ]
  },
  {
   "cell_type": "code",
   "execution_count": 15,
   "id": "8df7f8fd",
   "metadata": {
    "scrolled": true
   },
   "outputs": [
    {
     "data": {
      "text/html": [
       "<div>\n",
       "<style scoped>\n",
       "    .dataframe tbody tr th:only-of-type {\n",
       "        vertical-align: middle;\n",
       "    }\n",
       "\n",
       "    .dataframe tbody tr th {\n",
       "        vertical-align: top;\n",
       "    }\n",
       "\n",
       "    .dataframe thead th {\n",
       "        text-align: right;\n",
       "    }\n",
       "</style>\n",
       "<table border=\"1\" class=\"dataframe\">\n",
       "  <thead>\n",
       "    <tr style=\"text-align: right;\">\n",
       "      <th></th>\n",
       "      <th>department</th>\n",
       "      <th>salary</th>\n",
       "      <th>averageMonthlyHours</th>\n",
       "      <th>projectCount</th>\n",
       "      <th>satisfaction</th>\n",
       "      <th>evaluation</th>\n",
       "      <th>yearsAtCompany</th>\n",
       "      <th>workAccident</th>\n",
       "      <th>turnover</th>\n",
       "    </tr>\n",
       "  </thead>\n",
       "  <tbody>\n",
       "    <tr>\n",
       "      <th>0</th>\n",
       "      <td>sales</td>\n",
       "      <td>low</td>\n",
       "      <td>266</td>\n",
       "      <td>2</td>\n",
       "      <td>38.0</td>\n",
       "      <td>53.0</td>\n",
       "      <td>3</td>\n",
       "      <td>0</td>\n",
       "      <td>1</td>\n",
       "    </tr>\n",
       "    <tr>\n",
       "      <th>1</th>\n",
       "      <td>sales</td>\n",
       "      <td>medium</td>\n",
       "      <td>252</td>\n",
       "      <td>5</td>\n",
       "      <td>80.0</td>\n",
       "      <td>86.0</td>\n",
       "      <td>6</td>\n",
       "      <td>0</td>\n",
       "      <td>1</td>\n",
       "    </tr>\n",
       "    <tr>\n",
       "      <th>2</th>\n",
       "      <td>sales</td>\n",
       "      <td>medium</td>\n",
       "      <td>289</td>\n",
       "      <td>7</td>\n",
       "      <td>11.0</td>\n",
       "      <td>88.0</td>\n",
       "      <td>4</td>\n",
       "      <td>0</td>\n",
       "      <td>1</td>\n",
       "    </tr>\n",
       "    <tr>\n",
       "      <th>3</th>\n",
       "      <td>sales</td>\n",
       "      <td>low</td>\n",
       "      <td>275</td>\n",
       "      <td>5</td>\n",
       "      <td>72.0</td>\n",
       "      <td>87.0</td>\n",
       "      <td>5</td>\n",
       "      <td>0</td>\n",
       "      <td>1</td>\n",
       "    </tr>\n",
       "    <tr>\n",
       "      <th>4</th>\n",
       "      <td>sales</td>\n",
       "      <td>low</td>\n",
       "      <td>292</td>\n",
       "      <td>2</td>\n",
       "      <td>37.0</td>\n",
       "      <td>52.0</td>\n",
       "      <td>3</td>\n",
       "      <td>0</td>\n",
       "      <td>1</td>\n",
       "    </tr>\n",
       "  </tbody>\n",
       "</table>\n",
       "</div>"
      ],
      "text/plain": [
       "  department  salary  averageMonthlyHours  projectCount  satisfaction  \\\n",
       "0      sales     low                  266             2          38.0   \n",
       "1      sales  medium                  252             5          80.0   \n",
       "2      sales  medium                  289             7          11.0   \n",
       "3      sales     low                  275             5          72.0   \n",
       "4      sales     low                  292             2          37.0   \n",
       "\n",
       "   evaluation  yearsAtCompany  workAccident  turnover  \n",
       "0        53.0               3             0         1  \n",
       "1        86.0               6             0         1  \n",
       "2        88.0               4             0         1  \n",
       "3        87.0               5             0         1  \n",
       "4        52.0               3             0         1  "
      ]
     },
     "execution_count": 15,
     "metadata": {},
     "output_type": "execute_result"
    }
   ],
   "source": [
    "df.head()"
   ]
  },
  {
   "cell_type": "markdown",
   "id": "fcc89e8b",
   "metadata": {},
   "source": [
    "###  Importancia de Features"
   ]
  },
  {
   "cell_type": "markdown",
   "id": "d37217ce",
   "metadata": {},
   "source": [
    "#### Converte os atributos em categoricos."
   ]
  },
  {
   "cell_type": "code",
   "execution_count": 16,
   "id": "82cf4bb1",
   "metadata": {},
   "outputs": [],
   "source": [
    "df[\"department\"] = df[\"department\"].astype('category').cat.codes\n",
    "df[\"salary\"] = df[\"salary\"].astype('category').cat.codes"
   ]
  },
  {
   "cell_type": "code",
   "execution_count": 17,
   "id": "8a44672c",
   "metadata": {},
   "outputs": [
    {
     "data": {
      "text/html": [
       "<div>\n",
       "<style scoped>\n",
       "    .dataframe tbody tr th:only-of-type {\n",
       "        vertical-align: middle;\n",
       "    }\n",
       "\n",
       "    .dataframe tbody tr th {\n",
       "        vertical-align: top;\n",
       "    }\n",
       "\n",
       "    .dataframe thead th {\n",
       "        text-align: right;\n",
       "    }\n",
       "</style>\n",
       "<table border=\"1\" class=\"dataframe\">\n",
       "  <thead>\n",
       "    <tr style=\"text-align: right;\">\n",
       "      <th></th>\n",
       "      <th>department</th>\n",
       "      <th>salary</th>\n",
       "      <th>averageMonthlyHours</th>\n",
       "      <th>projectCount</th>\n",
       "      <th>satisfaction</th>\n",
       "      <th>evaluation</th>\n",
       "      <th>yearsAtCompany</th>\n",
       "      <th>workAccident</th>\n",
       "      <th>turnover</th>\n",
       "    </tr>\n",
       "  </thead>\n",
       "  <tbody>\n",
       "    <tr>\n",
       "      <th>0</th>\n",
       "      <td>7</td>\n",
       "      <td>1</td>\n",
       "      <td>266</td>\n",
       "      <td>2</td>\n",
       "      <td>38.0</td>\n",
       "      <td>53.0</td>\n",
       "      <td>3</td>\n",
       "      <td>0</td>\n",
       "      <td>1</td>\n",
       "    </tr>\n",
       "    <tr>\n",
       "      <th>1</th>\n",
       "      <td>7</td>\n",
       "      <td>2</td>\n",
       "      <td>252</td>\n",
       "      <td>5</td>\n",
       "      <td>80.0</td>\n",
       "      <td>86.0</td>\n",
       "      <td>6</td>\n",
       "      <td>0</td>\n",
       "      <td>1</td>\n",
       "    </tr>\n",
       "    <tr>\n",
       "      <th>2</th>\n",
       "      <td>7</td>\n",
       "      <td>2</td>\n",
       "      <td>289</td>\n",
       "      <td>7</td>\n",
       "      <td>11.0</td>\n",
       "      <td>88.0</td>\n",
       "      <td>4</td>\n",
       "      <td>0</td>\n",
       "      <td>1</td>\n",
       "    </tr>\n",
       "    <tr>\n",
       "      <th>3</th>\n",
       "      <td>7</td>\n",
       "      <td>1</td>\n",
       "      <td>275</td>\n",
       "      <td>5</td>\n",
       "      <td>72.0</td>\n",
       "      <td>87.0</td>\n",
       "      <td>5</td>\n",
       "      <td>0</td>\n",
       "      <td>1</td>\n",
       "    </tr>\n",
       "    <tr>\n",
       "      <th>4</th>\n",
       "      <td>7</td>\n",
       "      <td>1</td>\n",
       "      <td>292</td>\n",
       "      <td>2</td>\n",
       "      <td>37.0</td>\n",
       "      <td>52.0</td>\n",
       "      <td>3</td>\n",
       "      <td>0</td>\n",
       "      <td>1</td>\n",
       "    </tr>\n",
       "  </tbody>\n",
       "</table>\n",
       "</div>"
      ],
      "text/plain": [
       "   department  salary  averageMonthlyHours  projectCount  satisfaction  \\\n",
       "0           7       1                  266             2          38.0   \n",
       "1           7       2                  252             5          80.0   \n",
       "2           7       2                  289             7          11.0   \n",
       "3           7       1                  275             5          72.0   \n",
       "4           7       1                  292             2          37.0   \n",
       "\n",
       "   evaluation  yearsAtCompany  workAccident  turnover  \n",
       "0        53.0               3             0         1  \n",
       "1        86.0               6             0         1  \n",
       "2        88.0               4             0         1  \n",
       "3        87.0               5             0         1  \n",
       "4        52.0               3             0         1  "
      ]
     },
     "execution_count": 17,
     "metadata": {},
     "output_type": "execute_result"
    }
   ],
   "source": [
    "df.head()"
   ]
  },
  {
   "cell_type": "markdown",
   "id": "702c4176",
   "metadata": {},
   "source": [
    "#### Separando os conjuntos de dados."
   ]
  },
  {
   "cell_type": "code",
   "execution_count": 18,
   "id": "d1bfeadb",
   "metadata": {},
   "outputs": [],
   "source": [
    "target_name = 'turnover'\n",
    "X = df.drop('turnover', axis=1)\n",
    "y = df[target_name]"
   ]
  },
  {
   "cell_type": "markdown",
   "id": "884842ca",
   "metadata": {},
   "source": [
    "#### Transformando os dados."
   ]
  },
  {
   "cell_type": "code",
   "execution_count": 19,
   "id": "9c78bc04",
   "metadata": {},
   "outputs": [],
   "source": [
    "from sklearn.preprocessing import MinMaxScaler"
   ]
  },
  {
   "cell_type": "code",
   "execution_count": 20,
   "id": "7a8ffe3c",
   "metadata": {},
   "outputs": [],
   "source": [
    "scaler = MinMaxScaler()"
   ]
  },
  {
   "cell_type": "code",
   "execution_count": 21,
   "id": "67d7112f",
   "metadata": {},
   "outputs": [],
   "source": [
    "X = scaler.fit_transform(X)"
   ]
  },
  {
   "cell_type": "code",
   "execution_count": 22,
   "id": "360fa4fb",
   "metadata": {},
   "outputs": [
    {
     "data": {
      "text/plain": [
       "array([[0.77777778, 0.5       , 0.38202247, ..., 0.265625  , 0.125     ,\n",
       "        0.        ],\n",
       "       [0.77777778, 1.        , 0.2247191 , ..., 0.78125   , 0.5       ,\n",
       "        0.        ],\n",
       "       [0.77777778, 1.        , 0.64044944, ..., 0.8125    , 0.25      ,\n",
       "        0.        ],\n",
       "       ...,\n",
       "       [1.        , 0.5       , 0.23595506, ..., 0.1875    , 0.125     ,\n",
       "        0.        ],\n",
       "       [1.        , 1.        , 0.62921348, ..., 0.265625  , 0.125     ,\n",
       "        0.        ],\n",
       "       [0.88888889, 0.5       , 0.4494382 , ..., 0.9375    , 0.25      ,\n",
       "        0.        ]])"
      ]
     },
     "execution_count": 22,
     "metadata": {},
     "output_type": "execute_result"
    }
   ],
   "source": [
    "X"
   ]
  },
  {
   "cell_type": "markdown",
   "id": "3f13d4d6",
   "metadata": {},
   "source": [
    "#### Separando os conjuntos."
   ]
  },
  {
   "cell_type": "code",
   "execution_count": 23,
   "id": "965c31d7",
   "metadata": {},
   "outputs": [],
   "source": [
    "from sklearn.model_selection import train_test_split"
   ]
  },
  {
   "cell_type": "code",
   "execution_count": 24,
   "id": "ab76666d",
   "metadata": {},
   "outputs": [],
   "source": [
    "X_train, X_test, y_train, y_test = train_test_split(\n",
    "        X\n",
    "       ,y\n",
    "       ,test_size = 0.2\n",
    "       ,random_state = 123\n",
    "       ,stratify = y\n",
    ")"
   ]
  },
  {
   "cell_type": "markdown",
   "id": "648148e9",
   "metadata": {},
   "source": [
    "#### Treinando o algoritmo de arvore de decisão."
   ]
  },
  {
   "cell_type": "code",
   "execution_count": 25,
   "id": "f99c9c51",
   "metadata": {},
   "outputs": [],
   "source": [
    "from sklearn.tree import DecisionTreeClassifier"
   ]
  },
  {
   "cell_type": "code",
   "execution_count": 26,
   "id": "b5b14190",
   "metadata": {},
   "outputs": [],
   "source": [
    "dtree = DecisionTreeClassifier()\n",
    "dtree = dtree.fit(X_train,y_train)"
   ]
  },
  {
   "cell_type": "code",
   "execution_count": 27,
   "id": "ccf50fa2",
   "metadata": {},
   "outputs": [],
   "source": [
    "importances = dtree.feature_importances_\n",
    "feat_names = df.drop(['turnover'],axis=1).columns"
   ]
  },
  {
   "cell_type": "code",
   "execution_count": 28,
   "id": "5479849c",
   "metadata": {
    "scrolled": false
   },
   "outputs": [
    {
     "data": {
      "image/png": "[encoded data removed]",
      "text/plain": [
       "<Figure size 864x288 with 1 Axes>"
      ]
     },
     "metadata": {
      "needs_background": "light"
     },
     "output_type": "display_data"
    }
   ],
   "source": [
    "indices = np.argsort(importances)[::-1]\n",
    "plt.figure(figsize=(12,4))\n",
    "plt.title(\"Feature importances by DecisionTreeClassifier\")\n",
    "plt.bar(range(len(indices)), importances[indices], color='lightblue',  align=\"center\")\n",
    "plt.xticks(range(len(indices)), feat_names[indices], rotation='vertical',fontsize=14)\n",
    "plt.xlim([-1, len(indices)])\n",
    "plt.show()"
   ]
  },
  {
   "cell_type": "markdown",
   "id": "7a2f50ad",
   "metadata": {},
   "source": [
    "#### Filtrando apenas os atributos relevantes."
   ]
  },
  {
   "cell_type": "code",
   "execution_count": 29,
   "id": "7363c56e",
   "metadata": {},
   "outputs": [],
   "source": [
    "X = df[[\"satisfaction\",\"evaluation\",\"averageMonthlyHours\",\"yearsAtCompany\"]]"
   ]
  },
  {
   "cell_type": "markdown",
   "id": "c608f61f",
   "metadata": {},
   "source": [
    "#### Separando os conjuntos de dados."
   ]
  },
  {
   "cell_type": "code",
   "execution_count": 30,
   "id": "b7bfe235",
   "metadata": {},
   "outputs": [],
   "source": [
    "scaler = MinMaxScaler()"
   ]
  },
  {
   "cell_type": "code",
   "execution_count": 31,
   "id": "9ace1d75",
   "metadata": {},
   "outputs": [],
   "source": [
    "X = scaler.fit_transform(X)"
   ]
  },
  {
   "cell_type": "code",
   "execution_count": 32,
   "id": "6df47cb3",
   "metadata": {},
   "outputs": [],
   "source": [
    "X_train, X_test, y_train, y_test = train_test_split(\n",
    "        X\n",
    "       ,y\n",
    "       ,test_size = 0.2\n",
    "       ,random_state = 123\n",
    "       ,stratify = y\n",
    ")"
   ]
  },
  {
   "cell_type": "code",
   "execution_count": 33,
   "id": "ee19664d",
   "metadata": {},
   "outputs": [
    {
     "data": {
      "text/plain": [
       "array([[0.59340659, 0.21875   , 0.40449438, 0.125     ],\n",
       "       [0.        , 0.703125  , 0.41573034, 0.25      ],\n",
       "       [0.3956044 , 0.28125   , 0.58426966, 0.125     ],\n",
       "       ...,\n",
       "       [0.32967033, 0.3125    , 0.59550562, 0.125     ],\n",
       "       [0.92307692, 0.28125   , 0.46067416, 0.        ],\n",
       "       [0.51648352, 0.5       , 0.53932584, 0.125     ]])"
      ]
     },
     "execution_count": 33,
     "metadata": {},
     "output_type": "execute_result"
    }
   ],
   "source": [
    "X_train"
   ]
  },
  {
   "cell_type": "markdown",
   "id": "233aef35",
   "metadata": {},
   "source": [
    "#### Função do modelo de base."
   ]
  },
  {
   "cell_type": "code",
   "execution_count": 34,
   "id": "862ce2ee",
   "metadata": {},
   "outputs": [],
   "source": [
    "def base_rate_model(X) :\n",
    "    y = np.zeros(X.shape[0])\n",
    "    return y"
   ]
  },
  {
   "cell_type": "markdown",
   "id": "9409f9ad",
   "metadata": {},
   "source": [
    "#### Importando métodos de métrica de avaliação."
   ]
  },
  {
   "cell_type": "code",
   "execution_count": 35,
   "id": "4c3e5be0",
   "metadata": {},
   "outputs": [],
   "source": [
    "from sklearn.metrics import roc_auc_score\n",
    "from sklearn.metrics import accuracy_score\n",
    "from sklearn.metrics import classification_report"
   ]
  },
  {
   "cell_type": "code",
   "execution_count": 36,
   "id": "f5a951ed",
   "metadata": {},
   "outputs": [],
   "source": [
    "def accuracy_result(y_test,y_predict):\n",
    "    acc = accuracy_score(y_test, y_predict)\n",
    "    print (\"Accuracy = %2.2f\" % acc)"
   ]
  },
  {
   "cell_type": "code",
   "execution_count": 37,
   "id": "c26617eb",
   "metadata": {},
   "outputs": [],
   "source": [
    "def roc_classification_report_results(model,y_test,y_predict):\n",
    "    roc_ = roc_auc_score(y_test, y_predict)\n",
    "    classfication_report = classification_report(y_test, y_predict)\n",
    "    \n",
    "    print (\"\\n{} AUC = {}\\n\".format(model, roc_))\n",
    "    print(classfication_report)"
   ]
  },
  {
   "cell_type": "markdown",
   "id": "08b4adeb",
   "metadata": {},
   "source": [
    "#### Análise do modelo de baseline"
   ]
  },
  {
   "cell_type": "code",
   "execution_count": 38,
   "id": "0aebf1fb",
   "metadata": {},
   "outputs": [],
   "source": [
    "y_predict = base_rate_model(X_test)"
   ]
  },
  {
   "cell_type": "code",
   "execution_count": 39,
   "id": "02804d58",
   "metadata": {},
   "outputs": [
    {
     "name": "stdout",
     "output_type": "stream",
     "text": [
      "Accuracy = 0.76\n"
     ]
    }
   ],
   "source": [
    "accuracy_result(y_test, y_predict)"
   ]
  },
  {
   "cell_type": "code",
   "execution_count": 40,
   "id": "905cac5f",
   "metadata": {},
   "outputs": [
    {
     "name": "stdout",
     "output_type": "stream",
     "text": [
      "\n",
      "Base Model AUC = 0.5\n",
      "\n",
      "              precision    recall  f1-score   support\n",
      "\n",
      "           0       0.76      1.00      0.86      2286\n",
      "           1       0.00      0.00      0.00       714\n",
      "\n",
      "    accuracy                           0.76      3000\n",
      "   macro avg       0.38      0.50      0.43      3000\n",
      "weighted avg       0.58      0.76      0.66      3000\n",
      "\n"
     ]
    },
    {
     "name": "stderr",
     "output_type": "stream",
     "text": [
      "/home/luiz/miniconda3/envs/MIT/lib/python3.7/site-packages/sklearn/metrics/_classification.py:1221: UndefinedMetricWarning: Precision and F-score are ill-defined and being set to 0.0 in labels with no predicted samples. Use `zero_division` parameter to control this behavior.\n",
      "  _warn_prf(average, modifier, msg_start, len(result))\n"
     ]
    }
   ],
   "source": [
    "roc_classification_report_results(\"Base Model\", y_test, y_predict)"
   ]
  },
  {
   "cell_type": "markdown",
   "id": "04850a75",
   "metadata": {},
   "source": [
    "### Modelo de Regressão Logística."
   ]
  },
  {
   "cell_type": "markdown",
   "id": "9a11b173",
   "metadata": {},
   "source": [
    "#### Instânciando o algoritmo."
   ]
  },
  {
   "cell_type": "code",
   "execution_count": 41,
   "id": "f9f2bc15",
   "metadata": {},
   "outputs": [],
   "source": [
    "from sklearn.linear_model import LogisticRegression\n",
    "logis = LogisticRegression()"
   ]
  },
  {
   "cell_type": "markdown",
   "id": "a6369bc1",
   "metadata": {},
   "source": [
    "#### Realizando o treinamento."
   ]
  },
  {
   "cell_type": "code",
   "execution_count": 42,
   "id": "3f761af6",
   "metadata": {
    "scrolled": true
   },
   "outputs": [
    {
     "data": {
      "text/plain": [
       "LogisticRegression()"
      ]
     },
     "execution_count": 42,
     "metadata": {},
     "output_type": "execute_result"
    }
   ],
   "source": [
    "logis.fit(X_train, y_train)"
   ]
  },
  {
   "cell_type": "markdown",
   "id": "03651c5a",
   "metadata": {},
   "source": [
    "#### Calculando as predições."
   ]
  },
  {
   "cell_type": "code",
   "execution_count": 43,
   "id": "cd138e3c",
   "metadata": {},
   "outputs": [],
   "source": [
    "y_predict = logis.predict(X_test)"
   ]
  },
  {
   "cell_type": "markdown",
   "id": "ad0e75d9",
   "metadata": {},
   "source": [
    "#### Avaliando o resultado."
   ]
  },
  {
   "cell_type": "code",
   "execution_count": 44,
   "id": "da03dbe1",
   "metadata": {},
   "outputs": [
    {
     "name": "stdout",
     "output_type": "stream",
     "text": [
      "Accuracy = 0.77\n"
     ]
    }
   ],
   "source": [
    "accuracy_result(y_test, y_predict)"
   ]
  },
  {
   "cell_type": "code",
   "execution_count": 45,
   "id": "4800a256",
   "metadata": {},
   "outputs": [
    {
     "name": "stdout",
     "output_type": "stream",
     "text": [
      "\n",
      "Logistic Regression AUC = 0.5406235985207731\n",
      "\n",
      "              precision    recall  f1-score   support\n",
      "\n",
      "           0       0.78      0.97      0.86      2286\n",
      "           1       0.55      0.11      0.18       714\n",
      "\n",
      "    accuracy                           0.77      3000\n",
      "   macro avg       0.66      0.54      0.52      3000\n",
      "weighted avg       0.72      0.77      0.70      3000\n",
      "\n"
     ]
    }
   ],
   "source": [
    "roc_classification_report_results(\"Logistic Regression\", y_test, y_predict)"
   ]
  },
  {
   "cell_type": "markdown",
   "id": "00aaac7c",
   "metadata": {},
   "source": [
    "### Modelo de Arvore de decisão."
   ]
  },
  {
   "cell_type": "markdown",
   "id": "33524aac",
   "metadata": {},
   "source": [
    "#### Instânciando o algoritmo."
   ]
  },
  {
   "cell_type": "code",
   "execution_count": 46,
   "id": "95c50872",
   "metadata": {},
   "outputs": [],
   "source": [
    "from sklearn.tree import DecisionTreeClassifier\n",
    "dtree = DecisionTreeClassifier()"
   ]
  },
  {
   "cell_type": "markdown",
   "id": "3d7ad1c8",
   "metadata": {},
   "source": [
    "#### Realizando o treinamento."
   ]
  },
  {
   "cell_type": "code",
   "execution_count": 47,
   "id": "edcca31f",
   "metadata": {
    "scrolled": true
   },
   "outputs": [],
   "source": [
    "dtree = dtree.fit(X_train,y_train)"
   ]
  },
  {
   "cell_type": "markdown",
   "id": "d3ac4673",
   "metadata": {},
   "source": [
    "#### Calculando as predições."
   ]
  },
  {
   "cell_type": "code",
   "execution_count": 48,
   "id": "9197176d",
   "metadata": {},
   "outputs": [],
   "source": [
    "y_predict = dtree.predict(X_test)"
   ]
  },
  {
   "cell_type": "markdown",
   "id": "56a32296",
   "metadata": {},
   "source": [
    "#### Avaliando o resultado."
   ]
  },
  {
   "cell_type": "code",
   "execution_count": 49,
   "id": "bf8ad9d3",
   "metadata": {},
   "outputs": [
    {
     "name": "stdout",
     "output_type": "stream",
     "text": [
      "Accuracy = 0.75\n"
     ]
    }
   ],
   "source": [
    "accuracy_result(y_test, y_predict)"
   ]
  },
  {
   "cell_type": "code",
   "execution_count": 50,
   "id": "93b86d22",
   "metadata": {},
   "outputs": [
    {
     "name": "stdout",
     "output_type": "stream",
     "text": [
      "\n",
      "Decision Tree AUC = 0.6650510597939963\n",
      "\n",
      "              precision    recall  f1-score   support\n",
      "\n",
      "           0       0.84      0.82      0.83      2286\n",
      "           1       0.47      0.51      0.49       714\n",
      "\n",
      "    accuracy                           0.75      3000\n",
      "   macro avg       0.66      0.67      0.66      3000\n",
      "weighted avg       0.75      0.75      0.75      3000\n",
      "\n"
     ]
    }
   ],
   "source": [
    "roc_classification_report_results(\"Decision Tree\", y_test, y_predict)"
   ]
  },
  {
   "cell_type": "markdown",
   "id": "cd27a5ab",
   "metadata": {},
   "source": [
    "### Modelo de Arvore Aleatória (Random Forest)"
   ]
  },
  {
   "cell_type": "markdown",
   "id": "9b42b9d5",
   "metadata": {},
   "source": [
    "#### Instânciando o algoritmo."
   ]
  },
  {
   "cell_type": "code",
   "execution_count": 51,
   "id": "6dab769b",
   "metadata": {},
   "outputs": [],
   "source": [
    "from sklearn.ensemble import RandomForestClassifier"
   ]
  },
  {
   "cell_type": "code",
   "execution_count": 52,
   "id": "3e0c74f5",
   "metadata": {},
   "outputs": [],
   "source": [
    "rf = RandomForestClassifier()"
   ]
  },
  {
   "cell_type": "markdown",
   "id": "193d0577",
   "metadata": {},
   "source": [
    "#### Realizando o treinamento."
   ]
  },
  {
   "cell_type": "code",
   "execution_count": 53,
   "id": "8469a48a",
   "metadata": {
    "scrolled": true
   },
   "outputs": [],
   "source": [
    "rf = rf.fit(X_train,y_train)"
   ]
  },
  {
   "cell_type": "markdown",
   "id": "3a77f475",
   "metadata": {},
   "source": [
    "#### Calculando as predições."
   ]
  },
  {
   "cell_type": "code",
   "execution_count": 54,
   "id": "58e16f6c",
   "metadata": {},
   "outputs": [],
   "source": [
    "y_predict = rf.predict(X_test)"
   ]
  },
  {
   "cell_type": "markdown",
   "id": "5b56117a",
   "metadata": {},
   "source": [
    "#### Avaliando o resultado."
   ]
  },
  {
   "cell_type": "code",
   "execution_count": 55,
   "id": "ee9583e8",
   "metadata": {},
   "outputs": [
    {
     "name": "stdout",
     "output_type": "stream",
     "text": [
      "Accuracy = 0.83\n"
     ]
    }
   ],
   "source": [
    "accuracy_result(y_test, y_predict)"
   ]
  },
  {
   "cell_type": "code",
   "execution_count": 56,
   "id": "8853f34b",
   "metadata": {},
   "outputs": [
    {
     "name": "stdout",
     "output_type": "stream",
     "text": [
      "\n",
      "Random Forest AUC = 0.7243726887080291\n",
      "\n",
      "              precision    recall  f1-score   support\n",
      "\n",
      "           0       0.86      0.92      0.89      2286\n",
      "           1       0.68      0.53      0.59       714\n",
      "\n",
      "    accuracy                           0.83      3000\n",
      "   macro avg       0.77      0.72      0.74      3000\n",
      "weighted avg       0.82      0.83      0.82      3000\n",
      "\n"
     ]
    }
   ],
   "source": [
    "roc_classification_report_results(\"Random Forest\", y_test, y_predict)"
   ]
  },
  {
   "cell_type": "markdown",
   "id": "69e52b1b",
   "metadata": {},
   "source": [
    "### Pycaret"
   ]
  },
  {
   "cell_type": "code",
   "execution_count": 61,
   "id": "85d2e73d",
   "metadata": {},
   "outputs": [
    {
     "name": "stdout",
     "output_type": "stream",
     "text": [
      "Collecting pycaret\n",
      "  Downloading pycaret-2.3.4-py3-none-any.whl (266 kB)\n",
      "\u001b[K     |████████████████████████████████| 266 kB 595 kB/s eta 0:00:01\n",
      "\u001b[?25hCollecting mlxtend>=0.17.0\n",
      "  Downloading mlxtend-0.19.0-py2.py3-none-any.whl (1.3 MB)\n",
      "\u001b[K     |████████████████████████████████| 1.3 MB 6.7 MB/s eta 0:00:01\n",
      "\u001b[?25hCollecting numpy==1.19.5\n",
      "  Downloading numpy-1.19.5-cp37-cp37m-manylinux2010_x86_64.whl (14.8 MB)\n",
      "\u001b[K     |████████████████████████████████| 14.8 MB 137 kB/s eta 0:00:01\n",
      "\u001b[?25hCollecting Boruta\n",
      "  Downloading Boruta-0.3-py3-none-any.whl (56 kB)\n",
      "\u001b[K     |████████████████████████████████| 56 kB 148 kB/s eta 0:00:01\n",
      "\u001b[?25hCollecting mlflow\n",
      "  Downloading mlflow-1.20.2-py3-none-any.whl (14.6 MB)\n",
      "\u001b[K     |████████████████████████████████| 14.6 MB 94 kB/s  eta 0:00:01\n",
      "\u001b[?25hCollecting scikit-plot\n",
      "  Downloading scikit_plot-0.3.7-py3-none-any.whl (33 kB)\n",
      "Collecting numba<0.54\n",
      "  Downloading numba-0.53.1-cp37-cp37m-manylinux2014_x86_64.whl (3.4 MB)\n",
      "\u001b[K     |████████████████████████████████| 3.4 MB 5.5 MB/s eta 0:00:01\n",
      "\u001b[?25hRequirement already satisfied: joblib in /home/luiz/miniconda3/envs/MIT/lib/python3.7/site-packages (from pycaret) (1.0.1)\n",
      "Collecting pyLDAvis\n",
      "  Downloading pyLDAvis-3.3.1.tar.gz (1.7 MB)\n",
      "\u001b[K     |████████████████████████████████| 1.7 MB 4.9 MB/s eta 0:00:01\n",
      "\u001b[?25h  Installing build dependencies ... \u001b[?25ldone\n",
      "\u001b[?25h  Getting requirements to build wheel ... \u001b[?25ldone\n",
      "\u001b[?25h  Installing backend dependencies ... \u001b[?25ldone\n",
      "\u001b[?25h    Preparing wheel metadata ... \u001b[?25ldone\n",
      "\u001b[?25hCollecting textblob\n",
      "  Downloading textblob-0.17.1-py2.py3-none-any.whl (636 kB)\n",
      "\u001b[K     |████████████████████████████████| 636 kB 6.2 MB/s eta 0:00:01\n",
      "\u001b[?25hRequirement already satisfied: matplotlib in /home/luiz/miniconda3/envs/MIT/lib/python3.7/site-packages (from pycaret) (3.4.2)\n",
      "Collecting spacy<2.4.0\n",
      "  Downloading spacy-2.3.7-cp37-cp37m-manylinux_2_17_x86_64.manylinux2014_x86_64.whl (10.4 MB)\n",
      "\u001b[K     |████████████████████████████████| 10.4 MB 11 kB/s  eta 0:00:01\n",
      "\u001b[?25hCollecting yellowbrick>=1.0.1\n",
      "  Downloading yellowbrick-1.3.post1-py3-none-any.whl (271 kB)\n",
      "\u001b[K     |████████████████████████████████| 271 kB 4.5 MB/s eta 0:00:01\n",
      "\u001b[?25hCollecting gensim<4.0.0\n",
      "  Downloading gensim-3.8.3-cp37-cp37m-manylinux1_x86_64.whl (24.2 MB)\n",
      "\u001b[K     |████████████████████████████████| 24.2 MB 4.7 MB/s eta 0:00:01\n",
      "\u001b[?25hCollecting scipy<=1.5.4\n",
      "  Downloading scipy-1.5.4-cp37-cp37m-manylinux1_x86_64.whl (25.9 MB)\n",
      "\u001b[K     |████████████████████████████████| 25.9 MB 586 bytes/s  0:00:01\n",
      "\u001b[?25hCollecting wordcloud\n",
      "  Downloading wordcloud-1.8.1-cp37-cp37m-manylinux1_x86_64.whl (366 kB)\n",
      "\u001b[K     |████████████████████████████████| 366 kB 5.9 MB/s eta 0:00:01\n",
      "\u001b[?25hCollecting nltk\n",
      "  Downloading nltk-3.6.5-py3-none-any.whl (1.5 MB)\n",
      "\u001b[K     |████████████████████████████████| 1.5 MB 28 kB/s  eta 0:00:01\n",
      "\u001b[?25hCollecting pandas-profiling>=2.8.0\n",
      "  Downloading pandas_profiling-3.1.0-py2.py3-none-any.whl (261 kB)\n",
      "\u001b[K     |████████████████████████████████| 261 kB 6.5 MB/s eta 0:00:01\n",
      "\u001b[?25hCollecting kmodes>=0.10.1\n",
      "  Downloading kmodes-0.11.1-py2.py3-none-any.whl (19 kB)\n",
      "Requirement already satisfied: ipywidgets in /home/luiz/miniconda3/envs/MIT/lib/python3.7/site-packages (from pycaret) (7.6.5)\n",
      "Collecting umap-learn\n",
      "  Downloading umap-learn-0.5.1.tar.gz (80 kB)\n",
      "\u001b[K     |████████████████████████████████| 80 kB 272 kB/s eta 0:00:01\n",
      "\u001b[?25hCollecting lightgbm>=2.3.1\n",
      "  Downloading lightgbm-3.3.0-py3-none-manylinux1_x86_64.whl (2.0 MB)\n",
      "\u001b[K     |████████████████████████████████| 2.0 MB 7.5 MB/s eta 0:00:01\n",
      "\u001b[?25hCollecting imbalanced-learn==0.7.0\n",
      "  Downloading imbalanced_learn-0.7.0-py3-none-any.whl (167 kB)\n",
      "\u001b[K     |████████████████████████████████| 167 kB 4.9 MB/s eta 0:00:01\n",
      "\u001b[?25hRequirement already satisfied: pandas in /home/luiz/miniconda3/envs/MIT/lib/python3.7/site-packages (from pycaret) (1.3.4)\n",
      "Requirement already satisfied: seaborn in /home/luiz/miniconda3/envs/MIT/lib/python3.7/site-packages (from pycaret) (0.11.2)\n",
      "Collecting cufflinks>=0.17.0\n",
      "  Downloading cufflinks-0.17.3.tar.gz (81 kB)\n",
      "\u001b[K     |████████████████████████████████| 81 kB 342 kB/s eta 0:00:011\n",
      "\u001b[?25hRequirement already satisfied: IPython in /home/luiz/miniconda3/envs/MIT/lib/python3.7/site-packages (from pycaret) (7.28.0)\n",
      "Collecting plotly>=4.4.1\n",
      "  Downloading plotly-5.3.1-py2.py3-none-any.whl (23.9 MB)\n",
      "\u001b[K     |████████████████████████████████| 23.9 MB 4.8 MB/s eta 0:00:01     |█████████████████████████████▏  | 21.8 MB 4.9 MB/s eta 0:00:01\n",
      "\u001b[?25hCollecting pyod\n",
      "  Downloading pyod-0.9.4.tar.gz (111 kB)\n",
      "\u001b[K     |████████████████████████████████| 111 kB 5.6 MB/s eta 0:00:01\n",
      "\u001b[?25hCollecting scikit-learn==0.23.2\n",
      "  Downloading scikit_learn-0.23.2-cp37-cp37m-manylinux1_x86_64.whl (6.8 MB)\n",
      "\u001b[K     |████████████████████████████████| 6.8 MB 7.0 MB/s eta 0:00:01\n",
      "\u001b[?25hRequirement already satisfied: threadpoolctl>=2.0.0 in /home/luiz/miniconda3/envs/MIT/lib/python3.7/site-packages (from scikit-learn==0.23.2->pycaret) (2.2.0)\n",
      "Requirement already satisfied: six>=1.9.0 in /home/luiz/miniconda3/envs/MIT/lib/python3.7/site-packages (from cufflinks>=0.17.0->pycaret) (1.16.0)\n",
      "Collecting colorlover>=0.2.1\n",
      "  Downloading colorlover-0.3.0-py3-none-any.whl (8.9 kB)\n",
      "Requirement already satisfied: setuptools>=34.4.1 in /home/luiz/miniconda3/envs/MIT/lib/python3.7/site-packages (from cufflinks>=0.17.0->pycaret) (58.0.4)\n",
      "Collecting smart-open>=1.8.1\n",
      "  Downloading smart_open-5.2.1-py3-none-any.whl (58 kB)\n",
      "\u001b[K     |████████████████████████████████| 58 kB 78 kB/s  eta 0:00:01\n",
      "\u001b[?25hRequirement already satisfied: backcall in /home/luiz/miniconda3/envs/MIT/lib/python3.7/site-packages (from IPython->pycaret) (0.2.0)\n",
      "Requirement already satisfied: pexpect>4.3 in /home/luiz/miniconda3/envs/MIT/lib/python3.7/site-packages (from IPython->pycaret) (4.8.0)\n",
      "Requirement already satisfied: jedi>=0.16 in /home/luiz/miniconda3/envs/MIT/lib/python3.7/site-packages (from IPython->pycaret) (0.18.0)\n",
      "Requirement already satisfied: pickleshare in /home/luiz/miniconda3/envs/MIT/lib/python3.7/site-packages (from IPython->pycaret) (0.7.5)\n",
      "Requirement already satisfied: prompt-toolkit!=3.0.0,!=3.0.1,<3.1.0,>=2.0.0 in /home/luiz/miniconda3/envs/MIT/lib/python3.7/site-packages (from IPython->pycaret) (3.0.20)\n",
      "Requirement already satisfied: decorator in /home/luiz/miniconda3/envs/MIT/lib/python3.7/site-packages (from IPython->pycaret) (5.1.0)\n",
      "Requirement already satisfied: pygments in /home/luiz/miniconda3/envs/MIT/lib/python3.7/site-packages (from IPython->pycaret) (2.10.0)\n",
      "Requirement already satisfied: matplotlib-inline in /home/luiz/miniconda3/envs/MIT/lib/python3.7/site-packages (from IPython->pycaret) (0.1.3)\n",
      "Requirement already satisfied: traitlets>=4.2 in /home/luiz/miniconda3/envs/MIT/lib/python3.7/site-packages (from IPython->pycaret) (5.1.0)\n",
      "Requirement already satisfied: jupyterlab-widgets>=1.0.0 in /home/luiz/miniconda3/envs/MIT/lib/python3.7/site-packages (from ipywidgets->pycaret) (1.0.2)\n",
      "Requirement already satisfied: nbformat>=4.2.0 in /home/luiz/miniconda3/envs/MIT/lib/python3.7/site-packages (from ipywidgets->pycaret) (5.1.3)\n",
      "Requirement already satisfied: ipython-genutils~=0.2.0 in /home/luiz/miniconda3/envs/MIT/lib/python3.7/site-packages (from ipywidgets->pycaret) (0.2.0)\n",
      "Requirement already satisfied: ipykernel>=4.5.1 in /home/luiz/miniconda3/envs/MIT/lib/python3.7/site-packages (from ipywidgets->pycaret) (6.4.1)\n",
      "Requirement already satisfied: widgetsnbextension~=3.5.0 in /home/luiz/miniconda3/envs/MIT/lib/python3.7/site-packages (from ipywidgets->pycaret) (3.5.1)\n",
      "Requirement already satisfied: tornado<7.0,>=4.2 in /home/luiz/miniconda3/envs/MIT/lib/python3.7/site-packages (from ipykernel>=4.5.1->ipywidgets->pycaret) (6.1)\n",
      "Requirement already satisfied: jupyter-client<8.0 in /home/luiz/miniconda3/envs/MIT/lib/python3.7/site-packages (from ipykernel>=4.5.1->ipywidgets->pycaret) (7.0.6)\n",
      "Requirement already satisfied: debugpy<2.0,>=1.0.0 in /home/luiz/miniconda3/envs/MIT/lib/python3.7/site-packages (from ipykernel>=4.5.1->ipywidgets->pycaret) (1.5.0)\n",
      "Requirement already satisfied: argcomplete>=1.12.3 in /home/luiz/miniconda3/envs/MIT/lib/python3.7/site-packages (from ipykernel>=4.5.1->ipywidgets->pycaret) (1.12.3)\n",
      "Requirement already satisfied: importlib-metadata<5 in /home/luiz/miniconda3/envs/MIT/lib/python3.7/site-packages (from ipykernel>=4.5.1->ipywidgets->pycaret) (4.8.1)\n"
     ]
    },
    {
     "name": "stdout",
     "output_type": "stream",
     "text": [
      "Requirement already satisfied: typing-extensions>=3.6.4 in /home/luiz/miniconda3/envs/MIT/lib/python3.7/site-packages (from importlib-metadata<5->ipykernel>=4.5.1->ipywidgets->pycaret) (3.10.0.2)\n",
      "Requirement already satisfied: zipp>=0.5 in /home/luiz/miniconda3/envs/MIT/lib/python3.7/site-packages (from importlib-metadata<5->ipykernel>=4.5.1->ipywidgets->pycaret) (3.6.0)\n",
      "Requirement already satisfied: parso<0.9.0,>=0.8.0 in /home/luiz/miniconda3/envs/MIT/lib/python3.7/site-packages (from jedi>=0.16->IPython->pycaret) (0.8.2)\n",
      "Requirement already satisfied: pyzmq>=13 in /home/luiz/miniconda3/envs/MIT/lib/python3.7/site-packages (from jupyter-client<8.0->ipykernel>=4.5.1->ipywidgets->pycaret) (22.3.0)\n",
      "Requirement already satisfied: entrypoints in /home/luiz/miniconda3/envs/MIT/lib/python3.7/site-packages (from jupyter-client<8.0->ipykernel>=4.5.1->ipywidgets->pycaret) (0.3)\n",
      "Requirement already satisfied: nest-asyncio>=1.5 in /home/luiz/miniconda3/envs/MIT/lib/python3.7/site-packages (from jupyter-client<8.0->ipykernel>=4.5.1->ipywidgets->pycaret) (1.5.1)\n",
      "Requirement already satisfied: python-dateutil>=2.1 in /home/luiz/miniconda3/envs/MIT/lib/python3.7/site-packages (from jupyter-client<8.0->ipykernel>=4.5.1->ipywidgets->pycaret) (2.8.2)\n",
      "Requirement already satisfied: jupyter-core>=4.6.0 in /home/luiz/miniconda3/envs/MIT/lib/python3.7/site-packages (from jupyter-client<8.0->ipykernel>=4.5.1->ipywidgets->pycaret) (4.8.1)\n",
      "Requirement already satisfied: wheel in /home/luiz/miniconda3/envs/MIT/lib/python3.7/site-packages (from lightgbm>=2.3.1->pycaret) (0.37.0)\n",
      "Requirement already satisfied: cycler>=0.10 in /home/luiz/miniconda3/envs/MIT/lib/python3.7/site-packages (from matplotlib->pycaret) (0.10.0)\n",
      "Requirement already satisfied: pyparsing>=2.2.1 in /home/luiz/miniconda3/envs/MIT/lib/python3.7/site-packages (from matplotlib->pycaret) (2.4.7)\n",
      "Requirement already satisfied: kiwisolver>=1.0.1 in /home/luiz/miniconda3/envs/MIT/lib/python3.7/site-packages (from matplotlib->pycaret) (1.3.1)\n",
      "Requirement already satisfied: pillow>=6.2.0 in /home/luiz/miniconda3/envs/MIT/lib/python3.7/site-packages (from matplotlib->pycaret) (8.3.1)\n",
      "Requirement already satisfied: jsonschema!=2.5.0,>=2.4 in /home/luiz/miniconda3/envs/MIT/lib/python3.7/site-packages (from nbformat>=4.2.0->ipywidgets->pycaret) (4.1.0)\n",
      "Requirement already satisfied: attrs>=17.4.0 in /home/luiz/miniconda3/envs/MIT/lib/python3.7/site-packages (from jsonschema!=2.5.0,>=2.4->nbformat>=4.2.0->ipywidgets->pycaret) (21.2.0)\n",
      "Requirement already satisfied: pyrsistent!=0.17.0,!=0.17.1,!=0.17.2,>=0.14.0 in /home/luiz/miniconda3/envs/MIT/lib/python3.7/site-packages (from jsonschema!=2.5.0,>=2.4->nbformat>=4.2.0->ipywidgets->pycaret) (0.18.0)\n",
      "Collecting llvmlite<0.37,>=0.36.0rc1\n",
      "  Downloading llvmlite-0.36.0-cp37-cp37m-manylinux2010_x86_64.whl (25.3 MB)\n",
      "\u001b[K     |████████████████████████████████| 25.3 MB 127 kB/s eta 0:00:011   |▉                               | 655 kB 5.0 MB/s eta 0:00:05     |█▉                              | 1.5 MB 5.0 MB/s eta 0:00:05     |█████████████████████████▌      | 20.2 MB 4.0 MB/s eta 0:00:02\n",
      "\u001b[?25hRequirement already satisfied: pytz>=2017.3 in /home/luiz/miniconda3/envs/MIT/lib/python3.7/site-packages (from pandas->pycaret) (2021.3)\n",
      "Collecting missingno>=0.4.2\n",
      "  Downloading missingno-0.5.0-py3-none-any.whl (8.8 kB)\n",
      "Requirement already satisfied: markupsafe~=2.0.1 in /home/luiz/miniconda3/envs/MIT/lib/python3.7/site-packages (from pandas-profiling>=2.8.0->pycaret) (2.0.1)\n",
      "Collecting phik>=0.11.1\n",
      "  Downloading phik-0.12.0-cp37-cp37m-manylinux2010_x86_64.whl (675 kB)\n",
      "\u001b[K     |████████████████████████████████| 675 kB 4.7 MB/s eta 0:00:01\n",
      "\u001b[?25hCollecting requests>=2.24.0\n",
      "  Downloading requests-2.26.0-py2.py3-none-any.whl (62 kB)\n",
      "\u001b[K     |████████████████████████████████| 62 kB 14 kB/s  eta 0:00:01\n",
      "\u001b[?25hRequirement already satisfied: jinja2>=2.11.1 in /home/luiz/miniconda3/envs/MIT/lib/python3.7/site-packages (from pandas-profiling>=2.8.0->pycaret) (3.0.2)\n",
      "Collecting htmlmin>=0.1.12\n",
      "  Downloading htmlmin-0.1.12.tar.gz (19 kB)\n",
      "Requirement already satisfied: tqdm>=4.48.2 in /home/luiz/miniconda3/envs/MIT/lib/python3.7/site-packages (from pandas-profiling>=2.8.0->pycaret) (4.62.2)\n",
      "Collecting multimethod>=1.4\n",
      "  Downloading multimethod-1.6-py3-none-any.whl (9.4 kB)\n",
      "Collecting PyYAML>=5.0.0\n",
      "  Downloading PyYAML-6.0-cp37-cp37m-manylinux_2_5_x86_64.manylinux1_x86_64.manylinux_2_12_x86_64.manylinux2010_x86_64.whl (596 kB)\n",
      "\u001b[K     |████████████████████████████████| 596 kB 6.4 MB/s eta 0:00:01\n",
      "\u001b[?25hCollecting visions[type_image_path]==0.7.4\n",
      "  Downloading visions-0.7.4-py3-none-any.whl (102 kB)\n",
      "\u001b[K     |████████████████████████████████| 102 kB 292 kB/s ta 0:00:01\n",
      "\u001b[?25hCollecting pydantic>=1.8.1\n",
      "  Downloading pydantic-1.8.2-cp37-cp37m-manylinux2014_x86_64.whl (10.1 MB)\n",
      "\u001b[K     |████████████████████████████████| 10.1 MB 145 kB/s eta 0:00:01\n",
      "\u001b[?25hCollecting tangled-up-in-unicode==0.1.0\n",
      "  Downloading tangled_up_in_unicode-0.1.0-py3-none-any.whl (3.1 MB)\n",
      "\u001b[K     |████████████████████████████████| 3.1 MB 7.1 MB/s eta 0:00:01\n",
      "\u001b[?25hCollecting networkx>=2.4\n",
      "  Downloading networkx-2.6.3-py3-none-any.whl (1.9 MB)\n",
      "\u001b[K     |████████████████████████████████| 1.9 MB 5.4 MB/s eta 0:00:01\n",
      "\u001b[?25hCollecting imagehash\n",
      "  Downloading ImageHash-4.2.1.tar.gz (812 kB)\n",
      "\u001b[K     |████████████████████████████████| 812 kB 5.4 MB/s eta 0:00:01\n",
      "\u001b[?25hRequirement already satisfied: ptyprocess>=0.5 in /home/luiz/miniconda3/envs/MIT/lib/python3.7/site-packages (from pexpect>4.3->IPython->pycaret) (0.7.0)\n",
      "Collecting tenacity>=6.2.0\n",
      "  Downloading tenacity-8.0.1-py3-none-any.whl (24 kB)\n",
      "Requirement already satisfied: wcwidth in /home/luiz/miniconda3/envs/MIT/lib/python3.7/site-packages (from prompt-toolkit!=3.0.0,!=3.0.1,<3.1.0,>=2.0.0->IPython->pycaret) (0.2.5)\n",
      "Requirement already satisfied: certifi>=2017.4.17 in /home/luiz/miniconda3/envs/MIT/lib/python3.7/site-packages (from requests>=2.24.0->pandas-profiling>=2.8.0->pycaret) (2021.10.8)\n",
      "Requirement already satisfied: urllib3<1.27,>=1.21.1 in /home/luiz/miniconda3/envs/MIT/lib/python3.7/site-packages (from requests>=2.24.0->pandas-profiling>=2.8.0->pycaret) (1.26.7)\n",
      "Collecting idna<4,>=2.5\n",
      "  Downloading idna-3.3-py3-none-any.whl (61 kB)\n",
      "\u001b[K     |████████████████████████████████| 61 kB 224 kB/s eta 0:00:011\n",
      "\u001b[?25hCollecting charset-normalizer~=2.0.0\n",
      "  Downloading charset_normalizer-2.0.7-py3-none-any.whl (38 kB)\n",
      "Collecting murmurhash<1.1.0,>=0.28.0\n",
      "  Downloading murmurhash-1.0.6-cp37-cp37m-manylinux_2_5_x86_64.manylinux1_x86_64.manylinux_2_17_x86_64.manylinux2014_x86_64.whl (21 kB)\n",
      "Collecting thinc<7.5.0,>=7.4.1\n",
      "  Downloading thinc-7.4.5-cp37-cp37m-manylinux2014_x86_64.whl (1.0 MB)\n",
      "\u001b[K     |████████████████████████████████| 1.0 MB 6.6 MB/s eta 0:00:01\n",
      "\u001b[?25hCollecting plac<1.2.0,>=0.9.6\n",
      "  Downloading plac-1.1.3-py2.py3-none-any.whl (20 kB)\n",
      "Collecting wasabi<1.1.0,>=0.4.0\n",
      "  Downloading wasabi-0.8.2-py3-none-any.whl (23 kB)\n",
      "Collecting srsly<1.1.0,>=1.0.2\n",
      "  Downloading srsly-1.0.5-cp37-cp37m-manylinux2014_x86_64.whl (184 kB)\n",
      "\u001b[K     |████████████████████████████████| 184 kB 5.9 MB/s eta 0:00:01\n",
      "\u001b[?25hCollecting catalogue<1.1.0,>=0.0.7\n",
      "  Downloading catalogue-1.0.0-py2.py3-none-any.whl (7.7 kB)\n",
      "Collecting blis<0.8.0,>=0.4.0\n",
      "  Downloading blis-0.7.5-cp37-cp37m-manylinux_2_17_x86_64.manylinux2014_x86_64.whl (9.9 MB)\n",
      "\u001b[K     |████████████████████████████████| 9.9 MB 6.7 MB/s eta 0:00:01\n",
      "\u001b[?25hCollecting preshed<3.1.0,>=3.0.2\n",
      "  Downloading preshed-3.0.6-cp37-cp37m-manylinux_2_5_x86_64.manylinux1_x86_64.manylinux_2_17_x86_64.manylinux2014_x86_64.whl (125 kB)\n",
      "\u001b[K     |████████████████████████████████| 125 kB 7.0 MB/s eta 0:00:01\n",
      "\u001b[?25hCollecting cymem<2.1.0,>=2.0.2\n",
      "  Downloading cymem-2.0.6-cp37-cp37m-manylinux_2_17_x86_64.manylinux2014_x86_64.whl (35 kB)\n",
      "Requirement already satisfied: notebook>=4.4.1 in /home/luiz/miniconda3/envs/MIT/lib/python3.7/site-packages (from widgetsnbextension~=3.5.0->ipywidgets->pycaret) (6.4.4)\n",
      "Requirement already satisfied: prometheus-client in /home/luiz/miniconda3/envs/MIT/lib/python3.7/site-packages (from notebook>=4.4.1->widgetsnbextension~=3.5.0->ipywidgets->pycaret) (0.11.0)\n",
      "Requirement already satisfied: Send2Trash>=1.5.0 in /home/luiz/miniconda3/envs/MIT/lib/python3.7/site-packages (from notebook>=4.4.1->widgetsnbextension~=3.5.0->ipywidgets->pycaret) (1.8.0)\n",
      "Requirement already satisfied: argon2-cffi in /home/luiz/miniconda3/envs/MIT/lib/python3.7/site-packages (from notebook>=4.4.1->widgetsnbextension~=3.5.0->ipywidgets->pycaret) (21.1.0)\n"
     ]
    },
    {
     "name": "stdout",
     "output_type": "stream",
     "text": [
      "Requirement already satisfied: terminado>=0.8.3 in /home/luiz/miniconda3/envs/MIT/lib/python3.7/site-packages (from notebook>=4.4.1->widgetsnbextension~=3.5.0->ipywidgets->pycaret) (0.12.1)\n",
      "Requirement already satisfied: nbconvert in /home/luiz/miniconda3/envs/MIT/lib/python3.7/site-packages (from notebook>=4.4.1->widgetsnbextension~=3.5.0->ipywidgets->pycaret) (6.2.0)\n",
      "Requirement already satisfied: cffi>=1.0.0 in /home/luiz/miniconda3/envs/MIT/lib/python3.7/site-packages (from argon2-cffi->notebook>=4.4.1->widgetsnbextension~=3.5.0->ipywidgets->pycaret) (1.15.0)\n",
      "Requirement already satisfied: pycparser in /home/luiz/miniconda3/envs/MIT/lib/python3.7/site-packages (from cffi>=1.0.0->argon2-cffi->notebook>=4.4.1->widgetsnbextension~=3.5.0->ipywidgets->pycaret) (2.20)\n",
      "Collecting PyWavelets\n",
      "  Downloading PyWavelets-1.1.1-cp37-cp37m-manylinux1_x86_64.whl (4.4 MB)\n",
      "\u001b[K     |████████████████████████████████| 4.4 MB 100 kB/s eta 0:00:01\n",
      "\u001b[?25hCollecting docker>=4.0.0\n",
      "  Downloading docker-5.0.3-py2.py3-none-any.whl (146 kB)\n",
      "\u001b[K     |████████████████████████████████| 146 kB 5.9 MB/s eta 0:00:01\n",
      "\u001b[?25hCollecting databricks-cli>=0.8.7\n",
      "  Downloading databricks-cli-0.16.2.tar.gz (58 kB)\n",
      "\u001b[K     |████████████████████████████████| 58 kB 204 kB/s eta 0:00:01\n",
      "\u001b[?25hCollecting click>=7.0\n",
      "  Downloading click-8.0.3-py3-none-any.whl (97 kB)\n",
      "\u001b[K     |████████████████████████████████| 97 kB 257 kB/s eta 0:00:011\n",
      "\u001b[?25hCollecting protobuf>=3.7.0\n",
      "  Downloading protobuf-3.19.0-cp37-cp37m-manylinux_2_17_x86_64.manylinux2014_x86_64.whl (1.1 MB)\n",
      "\u001b[K     |████████████████████████████████| 1.1 MB 6.4 MB/s eta 0:00:01\n",
      "\u001b[?25hRequirement already satisfied: sqlalchemy in /home/luiz/miniconda3/envs/MIT/lib/python3.7/site-packages (from mlflow->pycaret) (1.4.26)\n",
      "Collecting gunicorn\n",
      "  Downloading gunicorn-20.1.0-py3-none-any.whl (79 kB)\n",
      "\u001b[K     |████████████████████████████████| 79 kB 183 kB/s eta 0:00:01\n",
      "\u001b[?25hRequirement already satisfied: packaging in /home/luiz/miniconda3/envs/MIT/lib/python3.7/site-packages (from mlflow->pycaret) (21.0)\n",
      "Collecting Flask\n",
      "  Downloading Flask-2.0.2-py3-none-any.whl (95 kB)\n",
      "\u001b[K     |████████████████████████████████| 95 kB 133 kB/s eta 0:00:01\n",
      "\u001b[?25hCollecting alembic<=1.4.1\n",
      "  Downloading alembic-1.4.1.tar.gz (1.1 MB)\n",
      "\u001b[K     |████████████████████████████████| 1.1 MB 6.2 MB/s eta 0:00:01\n",
      "\u001b[?25hCollecting gitpython>=2.1.0\n",
      "  Downloading GitPython-3.1.24-py3-none-any.whl (180 kB)\n",
      "\u001b[K     |████████████████████████████████| 180 kB 6.3 MB/s eta 0:00:01\n",
      "\u001b[?25hCollecting cloudpickle\n",
      "  Downloading cloudpickle-2.0.0-py3-none-any.whl (25 kB)\n",
      "Collecting querystring-parser\n",
      "  Downloading querystring_parser-1.2.4-py2.py3-none-any.whl (7.9 kB)\n",
      "Collecting prometheus-flask-exporter\n",
      "  Downloading prometheus_flask_exporter-0.18.4-py3-none-any.whl (17 kB)\n",
      "Collecting sqlparse>=0.3.1\n",
      "  Downloading sqlparse-0.4.2-py3-none-any.whl (42 kB)\n",
      "\u001b[K     |████████████████████████████████| 42 kB 51 kB/s s eta 0:00:01\n",
      "\u001b[?25hCollecting Mako\n",
      "  Downloading Mako-1.1.5-py2.py3-none-any.whl (75 kB)\n",
      "\u001b[K     |████████████████████████████████| 75 kB 137 kB/s eta 0:00:01\n",
      "\u001b[?25hCollecting python-editor>=0.3\n",
      "  Downloading python_editor-1.0.4-py3-none-any.whl (4.9 kB)\n",
      "Collecting tabulate>=0.7.7\n",
      "  Downloading tabulate-0.8.9-py3-none-any.whl (25 kB)\n",
      "Collecting websocket-client>=0.32.0\n",
      "  Downloading websocket_client-1.2.1-py2.py3-none-any.whl (52 kB)\n",
      "\u001b[K     |████████████████████████████████| 52 kB 40 kB/s  eta 0:00:011\n",
      "\u001b[?25hCollecting gitdb<5,>=4.0.1\n",
      "  Downloading gitdb-4.0.8-py3-none-any.whl (63 kB)\n",
      "\u001b[K     |████████████████████████████████| 63 kB 49 kB/s s eta 0:00:01\n",
      "\u001b[?25hCollecting smmap<6,>=3.0.1\n",
      "  Downloading smmap-5.0.0-py3-none-any.whl (24 kB)\n",
      "Requirement already satisfied: greenlet!=0.4.17 in /home/luiz/miniconda3/envs/MIT/lib/python3.7/site-packages (from sqlalchemy->mlflow->pycaret) (1.1.2)\n",
      "Collecting Werkzeug>=2.0\n",
      "  Downloading Werkzeug-2.0.2-py3-none-any.whl (288 kB)\n",
      "\u001b[K     |████████████████████████████████| 288 kB 6.3 MB/s eta 0:00:01\n",
      "\u001b[?25hCollecting itsdangerous>=2.0\n",
      "  Downloading itsdangerous-2.0.1-py3-none-any.whl (18 kB)\n",
      "Requirement already satisfied: mistune<2,>=0.8.1 in /home/luiz/miniconda3/envs/MIT/lib/python3.7/site-packages (from nbconvert->notebook>=4.4.1->widgetsnbextension~=3.5.0->ipywidgets->pycaret) (0.8.4)\n",
      "Requirement already satisfied: bleach in /home/luiz/miniconda3/envs/MIT/lib/python3.7/site-packages (from nbconvert->notebook>=4.4.1->widgetsnbextension~=3.5.0->ipywidgets->pycaret) (4.1.0)\n",
      "Requirement already satisfied: defusedxml in /home/luiz/miniconda3/envs/MIT/lib/python3.7/site-packages (from nbconvert->notebook>=4.4.1->widgetsnbextension~=3.5.0->ipywidgets->pycaret) (0.7.1)\n",
      "Requirement already satisfied: nbclient<0.6.0,>=0.5.0 in /home/luiz/miniconda3/envs/MIT/lib/python3.7/site-packages (from nbconvert->notebook>=4.4.1->widgetsnbextension~=3.5.0->ipywidgets->pycaret) (0.5.4)\n",
      "Requirement already satisfied: testpath in /home/luiz/miniconda3/envs/MIT/lib/python3.7/site-packages (from nbconvert->notebook>=4.4.1->widgetsnbextension~=3.5.0->ipywidgets->pycaret) (0.5.0)\n",
      "Requirement already satisfied: pandocfilters>=1.4.1 in /home/luiz/miniconda3/envs/MIT/lib/python3.7/site-packages (from nbconvert->notebook>=4.4.1->widgetsnbextension~=3.5.0->ipywidgets->pycaret) (1.5.0)\n",
      "Requirement already satisfied: jupyterlab-pygments in /home/luiz/miniconda3/envs/MIT/lib/python3.7/site-packages (from nbconvert->notebook>=4.4.1->widgetsnbextension~=3.5.0->ipywidgets->pycaret) (0.1.2)\n",
      "Requirement already satisfied: webencodings in /home/luiz/miniconda3/envs/MIT/lib/python3.7/site-packages (from bleach->nbconvert->notebook>=4.4.1->widgetsnbextension~=3.5.0->ipywidgets->pycaret) (0.5.1)\n",
      "Collecting regex>=2021.8.3\n",
      "  Downloading regex-2021.10.23-cp37-cp37m-manylinux_2_17_x86_64.manylinux2014_x86_64.whl (748 kB)\n",
      "\u001b[K     |████████████████████████████████| 748 kB 5.9 MB/s eta 0:00:01\n",
      "\u001b[?25hCollecting funcy\n",
      "  Downloading funcy-1.16-py2.py3-none-any.whl (32 kB)\n",
      "Collecting numexpr\n",
      "  Downloading numexpr-2.7.3-cp37-cp37m-manylinux2010_x86_64.whl (471 kB)\n",
      "\u001b[K     |████████████████████████████████| 471 kB 5.8 MB/s eta 0:00:01\n",
      "\u001b[?25hCollecting pyLDAvis\n",
      "  Downloading pyLDAvis-3.3.0.tar.gz (1.7 MB)\n",
      "\u001b[K     |████████████████████████████████| 1.7 MB 5.8 MB/s eta 0:00:01\n",
      "\u001b[?25h  Installing build dependencies ... \u001b[?25ldone\n",
      "\u001b[?25h  Getting requirements to build wheel ... \u001b[?25ldone\n",
      "\u001b[?25h  Installing backend dependencies ... \u001b[?25ldone\n",
      "\u001b[?25h    Preparing wheel metadata ... \u001b[?25ldone\n",
      "\u001b[?25h  Downloading pyLDAvis-3.2.2.tar.gz (1.7 MB)\n",
      "\u001b[K     |████████████████████████████████| 1.7 MB 6.2 MB/s eta 0:00:01\n",
      "\u001b[?25hCollecting future\n",
      "  Downloading future-0.18.2.tar.gz (829 kB)\n",
      "\u001b[K     |████████████████████████████████| 829 kB 5.6 MB/s eta 0:00:01\n",
      "\u001b[?25hCollecting statsmodels\n",
      "  Downloading statsmodels-0.13.0-cp37-cp37m-manylinux_2_17_x86_64.manylinux2014_x86_64.whl (9.8 MB)\n",
      "\u001b[K     |████████████████████████████████| 9.8 MB 156 kB/s  eta 0:00:01     |████████████████████████████▍   | 8.7 MB 13.0 MB/s eta 0:00:01\n",
      "\u001b[?25hCollecting patsy>=0.5.2\n",
      "  Downloading patsy-0.5.2-py2.py3-none-any.whl (233 kB)\n",
      "\u001b[K     |████████████████████████████████| 233 kB 5.9 MB/s eta 0:00:01\n",
      "\u001b[?25hCollecting pynndescent>=0.5\n",
      "  Downloading pynndescent-0.5.5.tar.gz (1.1 MB)\n",
      "\u001b[K     |████████████████████████████████| 1.1 MB 5.8 MB/s eta 0:00:01\n",
      "\u001b[?25hBuilding wheels for collected packages: cufflinks, htmlmin, imagehash, alembic, databricks-cli, pyLDAvis, future, pyod, umap-learn, pynndescent\n",
      "  Building wheel for cufflinks (setup.py) ... \u001b[?25ldone\n",
      "\u001b[?25h  Created wheel for cufflinks: filename=cufflinks-0.17.3-py3-none-any.whl size=67917 sha256=ad846a6226ccec5020b7504d611647a6c8cd0bde7cbe015cbea5415a33992e46\n",
      "  Stored in directory: /home/luiz/.cache/pip/wheels/e1/27/13/3fe67fa7ea7be444b831d117220b3b586b872c9acd4df480d0\n",
      "  Building wheel for htmlmin (setup.py) ... \u001b[?25ldone\n",
      "\u001b[?25h  Created wheel for htmlmin: filename=htmlmin-0.1.12-py3-none-any.whl size=27098 sha256=9faf17f7dada23cfd7998d3d80bbd038dd3cc84028cc2d25ca71d095088bde3f\n",
      "  Stored in directory: /home/luiz/.cache/pip/wheels/70/e1/52/5b14d250ba868768823940c3229e9950d201a26d0bd3ee8655\n",
      "  Building wheel for imagehash (setup.py) ... \u001b[?25ldone\n",
      "\u001b[?25h  Created wheel for imagehash: filename=ImageHash-4.2.1-py2.py3-none-any.whl size=295207 sha256=9ece3745adcab886eeb158e0912ac3f6fa02644968dfa01dfc9997aacba32d6b\n",
      "  Stored in directory: /home/luiz/.cache/pip/wheels/4c/d5/59/5e3e297533ddb09407769762985d134135064c6831e29a914e\n"
     ]
    },
    {
     "name": "stdout",
     "output_type": "stream",
     "text": [
      "  Building wheel for alembic (setup.py) ... \u001b[?25ldone\n",
      "\u001b[?25h  Created wheel for alembic: filename=alembic-1.4.1-py2.py3-none-any.whl size=158172 sha256=c6d05d979cad877651216c63cf3932ff5a8bf576fff7582d1b6eeda9fc4b471a\n",
      "  Stored in directory: /home/luiz/.cache/pip/wheels/be/5d/0a/9e13f53f4f5dfb67cd8d245bb7cdffe12f135846f491a283e3\n",
      "  Building wheel for databricks-cli (setup.py) ... \u001b[?25ldone\n",
      "\u001b[?25h  Created wheel for databricks-cli: filename=databricks_cli-0.16.2-py3-none-any.whl size=106811 sha256=a60d769835c3a7029b5df2e2bd9da271cba9f0c09a9dc80a9b302aa08f6dd089\n",
      "  Stored in directory: /home/luiz/.cache/pip/wheels/f4/5c/ed/e1ce20a53095f63b27b4964abbad03e59cf3472822addf7d29\n",
      "  Building wheel for pyLDAvis (setup.py) ... \u001b[?25ldone\n",
      "\u001b[?25h  Created wheel for pyLDAvis: filename=pyLDAvis-3.2.2-py2.py3-none-any.whl size=135618 sha256=d7630b60db1c6ca0c08fe501e649a586ee1a3880ec06eabddc0df4979d3456ad\n",
      "  Stored in directory: /home/luiz/.cache/pip/wheels/f8/b1/9b/560ac1931796b7303f7b517b949d2d31a4fbc512aad3b9f284\n",
      "  Building wheel for future (setup.py) ... \u001b[?25ldone\n",
      "\u001b[?25h  Created wheel for future: filename=future-0.18.2-py3-none-any.whl size=491070 sha256=f426cbde182e11f7392d44cf56ee804c1ecacb8affa97056f36e7f6ffac665e7\n",
      "  Stored in directory: /home/luiz/.cache/pip/wheels/56/b0/fe/4410d17b32f1f0c3cf54cdfb2bc04d7b4b8f4ae377e2229ba0\n",
      "  Building wheel for pyod (setup.py) ... \u001b[?25ldone\n",
      "\u001b[?25h  Created wheel for pyod: filename=pyod-0.9.4-py3-none-any.whl size=130726 sha256=99bd7ac054acf4239275196dfae3068cd7b83d559142d3397629ed12a6b626a5\n",
      "  Stored in directory: /home/luiz/.cache/pip/wheels/50/32/84/d64079e8bf087c1b231c9beecfa9abc08592ab5f5f333124cd\n",
      "  Building wheel for umap-learn (setup.py) ... \u001b[?25ldone\n",
      "\u001b[?25h  Created wheel for umap-learn: filename=umap_learn-0.5.1-py3-none-any.whl size=76564 sha256=e5ffbf988a4b55bc2195b92e683f8f0821bfa1ba2a2b37d93a8819f16789dbcd\n",
      "  Stored in directory: /home/luiz/.cache/pip/wheels/01/e7/bb/347dc0e510803d7116a13d592b10cc68262da56a8eec4dd72f\n",
      "  Building wheel for pynndescent (setup.py) ... \u001b[?25ldone\n",
      "\u001b[?25h  Created wheel for pynndescent: filename=pynndescent-0.5.5-py3-none-any.whl size=52603 sha256=91a14f7efa63bd69264d1fc5736e149fb569b28e270090f666a16da0605ab4d0\n",
      "  Stored in directory: /home/luiz/.cache/pip/wheels/af/e9/33/04db1436df0757c42fda8ea6796d7a8586e23c85fac355f476\n",
      "Successfully built cufflinks htmlmin imagehash alembic databricks-cli pyLDAvis future pyod umap-learn pynndescent\n",
      "Installing collected packages: numpy, Werkzeug, tangled-up-in-unicode, smmap, scipy, PyWavelets, networkx, murmurhash, multimethod, llvmlite, itsdangerous, idna, cymem, click, charset-normalizer, websocket-client, wasabi, visions, tenacity, tabulate, srsly, scikit-learn, requests, regex, python-editor, preshed, plac, patsy, numba, Mako, imagehash, gitdb, Flask, catalogue, blis, thinc, statsmodels, sqlparse, smart-open, querystring-parser, PyYAML, pynndescent, pydantic, protobuf, prometheus-flask-exporter, plotly, phik, numexpr, nltk, missingno, htmlmin, gunicorn, gitpython, future, funcy, docker, databricks-cli, colorlover, cloudpickle, alembic, yellowbrick, wordcloud, umap-learn, textblob, spacy, scikit-plot, pyod, pyLDAvis, pandas-profiling, mlxtend, mlflow, lightgbm, kmodes, imbalanced-learn, gensim, cufflinks, Boruta, pycaret\n",
      "  Attempting uninstall: numpy\n",
      "    Found existing installation: numpy 1.21.2\n",
      "    Uninstalling numpy-1.21.2:\n",
      "      Successfully uninstalled numpy-1.21.2\n",
      "  Attempting uninstall: scipy\n",
      "    Found existing installation: scipy 1.7.1\n",
      "    Uninstalling scipy-1.7.1:\n",
      "      Successfully uninstalled scipy-1.7.1\n",
      "  Attempting uninstall: scikit-learn\n",
      "    Found existing installation: scikit-learn 0.24.2\n",
      "    Uninstalling scikit-learn-0.24.2:\n",
      "      Successfully uninstalled scikit-learn-0.24.2\n",
      "Successfully installed Boruta-0.3 Flask-2.0.2 Mako-1.1.5 PyWavelets-1.1.1 PyYAML-6.0 Werkzeug-2.0.2 alembic-1.4.1 blis-0.7.5 catalogue-1.0.0 charset-normalizer-2.0.7 click-8.0.3 cloudpickle-2.0.0 colorlover-0.3.0 cufflinks-0.17.3 cymem-2.0.6 databricks-cli-0.16.2 docker-5.0.3 funcy-1.16 future-0.18.2 gensim-3.8.3 gitdb-4.0.8 gitpython-3.1.24 gunicorn-20.1.0 htmlmin-0.1.12 idna-3.3 imagehash-4.2.1 imbalanced-learn-0.7.0 itsdangerous-2.0.1 kmodes-0.11.1 lightgbm-3.3.0 llvmlite-0.36.0 missingno-0.5.0 mlflow-1.20.2 mlxtend-0.19.0 multimethod-1.6 murmurhash-1.0.6 networkx-2.6.3 nltk-3.6.5 numba-0.53.1 numexpr-2.7.3 numpy-1.19.5 pandas-profiling-3.1.0 patsy-0.5.2 phik-0.12.0 plac-1.1.3 plotly-5.3.1 preshed-3.0.6 prometheus-flask-exporter-0.18.4 protobuf-3.19.0 pyLDAvis-3.2.2 pycaret-2.3.4 pydantic-1.8.2 pynndescent-0.5.5 pyod-0.9.4 python-editor-1.0.4 querystring-parser-1.2.4 regex-2021.10.23 requests-2.26.0 scikit-learn-0.23.2 scikit-plot-0.3.7 scipy-1.5.4 smart-open-5.2.1 smmap-5.0.0 spacy-2.3.7 sqlparse-0.4.2 srsly-1.0.5 statsmodels-0.13.0 tabulate-0.8.9 tangled-up-in-unicode-0.1.0 tenacity-8.0.1 textblob-0.17.1 thinc-7.4.5 umap-learn-0.5.1 visions-0.7.4 wasabi-0.8.2 websocket-client-1.2.1 wordcloud-1.8.1 yellowbrick-1.3.post1\n",
      "Note: you may need to restart the kernel to use updated packages.\n"
     ]
    }
   ],
   "source": [
    "pip install pycaret"
   ]
  },
  {
   "cell_type": "markdown",
   "id": "421de2bf",
   "metadata": {},
   "source": [
    "#### Importando os métodos."
   ]
  },
  {
   "cell_type": "code",
   "execution_count": 57,
   "id": "0552d213",
   "metadata": {},
   "outputs": [],
   "source": [
    "from pycaret.classification import *"
   ]
  },
  {
   "cell_type": "markdown",
   "id": "2fa945c2",
   "metadata": {},
   "source": [
    "#### Definindo o Setup."
   ]
  },
  {
   "cell_type": "code",
   "execution_count": 58,
   "id": "5de9ab9b",
   "metadata": {
    "scrolled": true
   },
   "outputs": [
    {
     "data": {
      "text/html": [
       "<style type=\"text/css\">\n",
       "#T_5f405_row29_col1, #T_5f405_row44_col1, #T_5f405_row58_col1 {\n",
       "  background-color: lightgreen;\n",
       "}\n",
       "</style>\n",
       "<table id=\"T_5f405_\">\n",
       "  <thead>\n",
       "    <tr>\n",
       "      <th class=\"blank level0\" >&nbsp;</th>\n",
       "      <th class=\"col_heading level0 col0\" >Description</th>\n",
       "      <th class=\"col_heading level0 col1\" >Value</th>\n",
       "    </tr>\n",
       "  </thead>\n",
       "  <tbody>\n",
       "    <tr>\n",
       "      <th id=\"T_5f405_level0_row0\" class=\"row_heading level0 row0\" >0</th>\n",
       "      <td id=\"T_5f405_row0_col0\" class=\"data row0 col0\" >session_id</td>\n",
       "      <td id=\"T_5f405_row0_col1\" class=\"data row0 col1\" >2557</td>\n",
       "    </tr>\n",
       "    <tr>\n",
       "      <th id=\"T_5f405_level0_row1\" class=\"row_heading level0 row1\" >1</th>\n",
       "      <td id=\"T_5f405_row1_col0\" class=\"data row1 col0\" >Target</td>\n",
       "      <td id=\"T_5f405_row1_col1\" class=\"data row1 col1\" >turnover</td>\n",
       "    </tr>\n",
       "    <tr>\n",
       "      <th id=\"T_5f405_level0_row2\" class=\"row_heading level0 row2\" >2</th>\n",
       "      <td id=\"T_5f405_row2_col0\" class=\"data row2 col0\" >Target Type</td>\n",
       "      <td id=\"T_5f405_row2_col1\" class=\"data row2 col1\" >Binary</td>\n",
       "    </tr>\n",
       "    <tr>\n",
       "      <th id=\"T_5f405_level0_row3\" class=\"row_heading level0 row3\" >3</th>\n",
       "      <td id=\"T_5f405_row3_col0\" class=\"data row3 col0\" >Label Encoded</td>\n",
       "      <td id=\"T_5f405_row3_col1\" class=\"data row3 col1\" >None</td>\n",
       "    </tr>\n",
       "    <tr>\n",
       "      <th id=\"T_5f405_level0_row4\" class=\"row_heading level0 row4\" >4</th>\n",
       "      <td id=\"T_5f405_row4_col0\" class=\"data row4 col0\" >Original Data</td>\n",
       "      <td id=\"T_5f405_row4_col1\" class=\"data row4 col1\" >(14998, 5)</td>\n",
       "    </tr>\n",
       "    <tr>\n",
       "      <th id=\"T_5f405_level0_row5\" class=\"row_heading level0 row5\" >5</th>\n",
       "      <td id=\"T_5f405_row5_col0\" class=\"data row5 col0\" >Missing Values</td>\n",
       "      <td id=\"T_5f405_row5_col1\" class=\"data row5 col1\" >False</td>\n",
       "    </tr>\n",
       "    <tr>\n",
       "      <th id=\"T_5f405_level0_row6\" class=\"row_heading level0 row6\" >6</th>\n",
       "      <td id=\"T_5f405_row6_col0\" class=\"data row6 col0\" >Numeric Features</td>\n",
       "      <td id=\"T_5f405_row6_col1\" class=\"data row6 col1\" >4</td>\n",
       "    </tr>\n",
       "    <tr>\n",
       "      <th id=\"T_5f405_level0_row7\" class=\"row_heading level0 row7\" >7</th>\n",
       "      <td id=\"T_5f405_row7_col0\" class=\"data row7 col0\" >Categorical Features</td>\n",
       "      <td id=\"T_5f405_row7_col1\" class=\"data row7 col1\" >0</td>\n",
       "    </tr>\n",
       "    <tr>\n",
       "      <th id=\"T_5f405_level0_row8\" class=\"row_heading level0 row8\" >8</th>\n",
       "      <td id=\"T_5f405_row8_col0\" class=\"data row8 col0\" >Ordinal Features</td>\n",
       "      <td id=\"T_5f405_row8_col1\" class=\"data row8 col1\" >False</td>\n",
       "    </tr>\n",
       "    <tr>\n",
       "      <th id=\"T_5f405_level0_row9\" class=\"row_heading level0 row9\" >9</th>\n",
       "      <td id=\"T_5f405_row9_col0\" class=\"data row9 col0\" >High Cardinality Features</td>\n",
       "      <td id=\"T_5f405_row9_col1\" class=\"data row9 col1\" >False</td>\n",
       "    </tr>\n",
       "    <tr>\n",
       "      <th id=\"T_5f405_level0_row10\" class=\"row_heading level0 row10\" >10</th>\n",
       "      <td id=\"T_5f405_row10_col0\" class=\"data row10 col0\" >High Cardinality Method</td>\n",
       "      <td id=\"T_5f405_row10_col1\" class=\"data row10 col1\" >None</td>\n",
       "    </tr>\n",
       "    <tr>\n",
       "      <th id=\"T_5f405_level0_row11\" class=\"row_heading level0 row11\" >11</th>\n",
       "      <td id=\"T_5f405_row11_col0\" class=\"data row11 col0\" >Transformed Train Set</td>\n",
       "      <td id=\"T_5f405_row11_col1\" class=\"data row11 col1\" >(10498, 4)</td>\n",
       "    </tr>\n",
       "    <tr>\n",
       "      <th id=\"T_5f405_level0_row12\" class=\"row_heading level0 row12\" >12</th>\n",
       "      <td id=\"T_5f405_row12_col0\" class=\"data row12 col0\" >Transformed Test Set</td>\n",
       "      <td id=\"T_5f405_row12_col1\" class=\"data row12 col1\" >(4500, 4)</td>\n",
       "    </tr>\n",
       "    <tr>\n",
       "      <th id=\"T_5f405_level0_row13\" class=\"row_heading level0 row13\" >13</th>\n",
       "      <td id=\"T_5f405_row13_col0\" class=\"data row13 col0\" >Shuffle Train-Test</td>\n",
       "      <td id=\"T_5f405_row13_col1\" class=\"data row13 col1\" >True</td>\n",
       "    </tr>\n",
       "    <tr>\n",
       "      <th id=\"T_5f405_level0_row14\" class=\"row_heading level0 row14\" >14</th>\n",
       "      <td id=\"T_5f405_row14_col0\" class=\"data row14 col0\" >Stratify Train-Test</td>\n",
       "      <td id=\"T_5f405_row14_col1\" class=\"data row14 col1\" >True</td>\n",
       "    </tr>\n",
       "    <tr>\n",
       "      <th id=\"T_5f405_level0_row15\" class=\"row_heading level0 row15\" >15</th>\n",
       "      <td id=\"T_5f405_row15_col0\" class=\"data row15 col0\" >Fold Generator</td>\n",
       "      <td id=\"T_5f405_row15_col1\" class=\"data row15 col1\" >StratifiedKFold</td>\n",
       "    </tr>\n",
       "    <tr>\n",
       "      <th id=\"T_5f405_level0_row16\" class=\"row_heading level0 row16\" >16</th>\n",
       "      <td id=\"T_5f405_row16_col0\" class=\"data row16 col0\" >Fold Number</td>\n",
       "      <td id=\"T_5f405_row16_col1\" class=\"data row16 col1\" >10</td>\n",
       "    </tr>\n",
       "    <tr>\n",
       "      <th id=\"T_5f405_level0_row17\" class=\"row_heading level0 row17\" >17</th>\n",
       "      <td id=\"T_5f405_row17_col0\" class=\"data row17 col0\" >CPU Jobs</td>\n",
       "      <td id=\"T_5f405_row17_col1\" class=\"data row17 col1\" >-1</td>\n",
       "    </tr>\n",
       "    <tr>\n",
       "      <th id=\"T_5f405_level0_row18\" class=\"row_heading level0 row18\" >18</th>\n",
       "      <td id=\"T_5f405_row18_col0\" class=\"data row18 col0\" >Use GPU</td>\n",
       "      <td id=\"T_5f405_row18_col1\" class=\"data row18 col1\" >False</td>\n",
       "    </tr>\n",
       "    <tr>\n",
       "      <th id=\"T_5f405_level0_row19\" class=\"row_heading level0 row19\" >19</th>\n",
       "      <td id=\"T_5f405_row19_col0\" class=\"data row19 col0\" >Log Experiment</td>\n",
       "      <td id=\"T_5f405_row19_col1\" class=\"data row19 col1\" >False</td>\n",
       "    </tr>\n",
       "    <tr>\n",
       "      <th id=\"T_5f405_level0_row20\" class=\"row_heading level0 row20\" >20</th>\n",
       "      <td id=\"T_5f405_row20_col0\" class=\"data row20 col0\" >Experiment Name</td>\n",
       "      <td id=\"T_5f405_row20_col1\" class=\"data row20 col1\" >clf-default-name</td>\n",
       "    </tr>\n",
       "    <tr>\n",
       "      <th id=\"T_5f405_level0_row21\" class=\"row_heading level0 row21\" >21</th>\n",
       "      <td id=\"T_5f405_row21_col0\" class=\"data row21 col0\" >USI</td>\n",
       "      <td id=\"T_5f405_row21_col1\" class=\"data row21 col1\" >a938</td>\n",
       "    </tr>\n",
       "    <tr>\n",
       "      <th id=\"T_5f405_level0_row22\" class=\"row_heading level0 row22\" >22</th>\n",
       "      <td id=\"T_5f405_row22_col0\" class=\"data row22 col0\" >Imputation Type</td>\n",
       "      <td id=\"T_5f405_row22_col1\" class=\"data row22 col1\" >simple</td>\n",
       "    </tr>\n",
       "    <tr>\n",
       "      <th id=\"T_5f405_level0_row23\" class=\"row_heading level0 row23\" >23</th>\n",
       "      <td id=\"T_5f405_row23_col0\" class=\"data row23 col0\" >Iterative Imputation Iteration</td>\n",
       "      <td id=\"T_5f405_row23_col1\" class=\"data row23 col1\" >None</td>\n",
       "    </tr>\n",
       "    <tr>\n",
       "      <th id=\"T_5f405_level0_row24\" class=\"row_heading level0 row24\" >24</th>\n",
       "      <td id=\"T_5f405_row24_col0\" class=\"data row24 col0\" >Numeric Imputer</td>\n",
       "      <td id=\"T_5f405_row24_col1\" class=\"data row24 col1\" >mean</td>\n",
       "    </tr>\n",
       "    <tr>\n",
       "      <th id=\"T_5f405_level0_row25\" class=\"row_heading level0 row25\" >25</th>\n",
       "      <td id=\"T_5f405_row25_col0\" class=\"data row25 col0\" >Iterative Imputation Numeric Model</td>\n",
       "      <td id=\"T_5f405_row25_col1\" class=\"data row25 col1\" >None</td>\n",
       "    </tr>\n",
       "    <tr>\n",
       "      <th id=\"T_5f405_level0_row26\" class=\"row_heading level0 row26\" >26</th>\n",
       "      <td id=\"T_5f405_row26_col0\" class=\"data row26 col0\" >Categorical Imputer</td>\n",
       "      <td id=\"T_5f405_row26_col1\" class=\"data row26 col1\" >constant</td>\n",
       "    </tr>\n",
       "    <tr>\n",
       "      <th id=\"T_5f405_level0_row27\" class=\"row_heading level0 row27\" >27</th>\n",
       "      <td id=\"T_5f405_row27_col0\" class=\"data row27 col0\" >Iterative Imputation Categorical Model</td>\n",
       "      <td id=\"T_5f405_row27_col1\" class=\"data row27 col1\" >None</td>\n",
       "    </tr>\n",
       "    <tr>\n",
       "      <th id=\"T_5f405_level0_row28\" class=\"row_heading level0 row28\" >28</th>\n",
       "      <td id=\"T_5f405_row28_col0\" class=\"data row28 col0\" >Unknown Categoricals Handling</td>\n",
       "      <td id=\"T_5f405_row28_col1\" class=\"data row28 col1\" >least_frequent</td>\n",
       "    </tr>\n",
       "    <tr>\n",
       "      <th id=\"T_5f405_level0_row29\" class=\"row_heading level0 row29\" >29</th>\n",
       "      <td id=\"T_5f405_row29_col0\" class=\"data row29 col0\" >Normalize</td>\n",
       "      <td id=\"T_5f405_row29_col1\" class=\"data row29 col1\" >True</td>\n",
       "    </tr>\n",
       "    <tr>\n",
       "      <th id=\"T_5f405_level0_row30\" class=\"row_heading level0 row30\" >30</th>\n",
       "      <td id=\"T_5f405_row30_col0\" class=\"data row30 col0\" >Normalize Method</td>\n",
       "      <td id=\"T_5f405_row30_col1\" class=\"data row30 col1\" >minmax</td>\n",
       "    </tr>\n",
       "    <tr>\n",
       "      <th id=\"T_5f405_level0_row31\" class=\"row_heading level0 row31\" >31</th>\n",
       "      <td id=\"T_5f405_row31_col0\" class=\"data row31 col0\" >Transformation</td>\n",
       "      <td id=\"T_5f405_row31_col1\" class=\"data row31 col1\" >False</td>\n",
       "    </tr>\n",
       "    <tr>\n",
       "      <th id=\"T_5f405_level0_row32\" class=\"row_heading level0 row32\" >32</th>\n",
       "      <td id=\"T_5f405_row32_col0\" class=\"data row32 col0\" >Transformation Method</td>\n",
       "      <td id=\"T_5f405_row32_col1\" class=\"data row32 col1\" >None</td>\n",
       "    </tr>\n",
       "    <tr>\n",
       "      <th id=\"T_5f405_level0_row33\" class=\"row_heading level0 row33\" >33</th>\n",
       "      <td id=\"T_5f405_row33_col0\" class=\"data row33 col0\" >PCA</td>\n",
       "      <td id=\"T_5f405_row33_col1\" class=\"data row33 col1\" >False</td>\n",
       "    </tr>\n",
       "    <tr>\n",
       "      <th id=\"T_5f405_level0_row34\" class=\"row_heading level0 row34\" >34</th>\n",
       "      <td id=\"T_5f405_row34_col0\" class=\"data row34 col0\" >PCA Method</td>\n",
       "      <td id=\"T_5f405_row34_col1\" class=\"data row34 col1\" >None</td>\n",
       "    </tr>\n",
       "    <tr>\n",
       "      <th id=\"T_5f405_level0_row35\" class=\"row_heading level0 row35\" >35</th>\n",
       "      <td id=\"T_5f405_row35_col0\" class=\"data row35 col0\" >PCA Components</td>\n",
       "      <td id=\"T_5f405_row35_col1\" class=\"data row35 col1\" >None</td>\n",
       "    </tr>\n",
       "    <tr>\n",
       "      <th id=\"T_5f405_level0_row36\" class=\"row_heading level0 row36\" >36</th>\n",
       "      <td id=\"T_5f405_row36_col0\" class=\"data row36 col0\" >Ignore Low Variance</td>\n",
       "      <td id=\"T_5f405_row36_col1\" class=\"data row36 col1\" >False</td>\n",
       "    </tr>\n",
       "    <tr>\n",
       "      <th id=\"T_5f405_level0_row37\" class=\"row_heading level0 row37\" >37</th>\n",
       "      <td id=\"T_5f405_row37_col0\" class=\"data row37 col0\" >Combine Rare Levels</td>\n",
       "      <td id=\"T_5f405_row37_col1\" class=\"data row37 col1\" >False</td>\n",
       "    </tr>\n",
       "    <tr>\n",
       "      <th id=\"T_5f405_level0_row38\" class=\"row_heading level0 row38\" >38</th>\n",
       "      <td id=\"T_5f405_row38_col0\" class=\"data row38 col0\" >Rare Level Threshold</td>\n",
       "      <td id=\"T_5f405_row38_col1\" class=\"data row38 col1\" >None</td>\n",
       "    </tr>\n",
       "    <tr>\n",
       "      <th id=\"T_5f405_level0_row39\" class=\"row_heading level0 row39\" >39</th>\n",
       "      <td id=\"T_5f405_row39_col0\" class=\"data row39 col0\" >Numeric Binning</td>\n",
       "      <td id=\"T_5f405_row39_col1\" class=\"data row39 col1\" >False</td>\n",
       "    </tr>\n",
       "    <tr>\n",
       "      <th id=\"T_5f405_level0_row40\" class=\"row_heading level0 row40\" >40</th>\n",
       "      <td id=\"T_5f405_row40_col0\" class=\"data row40 col0\" >Remove Outliers</td>\n",
       "      <td id=\"T_5f405_row40_col1\" class=\"data row40 col1\" >False</td>\n",
       "    </tr>\n",
       "    <tr>\n",
       "      <th id=\"T_5f405_level0_row41\" class=\"row_heading level0 row41\" >41</th>\n",
       "      <td id=\"T_5f405_row41_col0\" class=\"data row41 col0\" >Outliers Threshold</td>\n",
       "      <td id=\"T_5f405_row41_col1\" class=\"data row41 col1\" >None</td>\n",
       "    </tr>\n",
       "    <tr>\n",
       "      <th id=\"T_5f405_level0_row42\" class=\"row_heading level0 row42\" >42</th>\n",
       "      <td id=\"T_5f405_row42_col0\" class=\"data row42 col0\" >Remove Multicollinearity</td>\n",
       "      <td id=\"T_5f405_row42_col1\" class=\"data row42 col1\" >False</td>\n",
       "    </tr>\n",
       "    <tr>\n",
       "      <th id=\"T_5f405_level0_row43\" class=\"row_heading level0 row43\" >43</th>\n",
       "      <td id=\"T_5f405_row43_col0\" class=\"data row43 col0\" >Multicollinearity Threshold</td>\n",
       "      <td id=\"T_5f405_row43_col1\" class=\"data row43 col1\" >None</td>\n",
       "    </tr>\n",
       "    <tr>\n",
       "      <th id=\"T_5f405_level0_row44\" class=\"row_heading level0 row44\" >44</th>\n",
       "      <td id=\"T_5f405_row44_col0\" class=\"data row44 col0\" >Remove Perfect Collinearity</td>\n",
       "      <td id=\"T_5f405_row44_col1\" class=\"data row44 col1\" >True</td>\n",
       "    </tr>\n",
       "    <tr>\n",
       "      <th id=\"T_5f405_level0_row45\" class=\"row_heading level0 row45\" >45</th>\n",
       "      <td id=\"T_5f405_row45_col0\" class=\"data row45 col0\" >Clustering</td>\n",
       "      <td id=\"T_5f405_row45_col1\" class=\"data row45 col1\" >False</td>\n",
       "    </tr>\n",
       "    <tr>\n",
       "      <th id=\"T_5f405_level0_row46\" class=\"row_heading level0 row46\" >46</th>\n",
       "      <td id=\"T_5f405_row46_col0\" class=\"data row46 col0\" >Clustering Iteration</td>\n",
       "      <td id=\"T_5f405_row46_col1\" class=\"data row46 col1\" >None</td>\n",
       "    </tr>\n",
       "    <tr>\n",
       "      <th id=\"T_5f405_level0_row47\" class=\"row_heading level0 row47\" >47</th>\n",
       "      <td id=\"T_5f405_row47_col0\" class=\"data row47 col0\" >Polynomial Features</td>\n",
       "      <td id=\"T_5f405_row47_col1\" class=\"data row47 col1\" >False</td>\n",
       "    </tr>\n",
       "    <tr>\n",
       "      <th id=\"T_5f405_level0_row48\" class=\"row_heading level0 row48\" >48</th>\n",
       "      <td id=\"T_5f405_row48_col0\" class=\"data row48 col0\" >Polynomial Degree</td>\n",
       "      <td id=\"T_5f405_row48_col1\" class=\"data row48 col1\" >None</td>\n",
       "    </tr>\n",
       "    <tr>\n",
       "      <th id=\"T_5f405_level0_row49\" class=\"row_heading level0 row49\" >49</th>\n",
       "      <td id=\"T_5f405_row49_col0\" class=\"data row49 col0\" >Trignometry Features</td>\n",
       "      <td id=\"T_5f405_row49_col1\" class=\"data row49 col1\" >False</td>\n",
       "    </tr>\n",
       "    <tr>\n",
       "      <th id=\"T_5f405_level0_row50\" class=\"row_heading level0 row50\" >50</th>\n",
       "      <td id=\"T_5f405_row50_col0\" class=\"data row50 col0\" >Polynomial Threshold</td>\n",
       "      <td id=\"T_5f405_row50_col1\" class=\"data row50 col1\" >None</td>\n",
       "    </tr>\n",
       "    <tr>\n",
       "      <th id=\"T_5f405_level0_row51\" class=\"row_heading level0 row51\" >51</th>\n",
       "      <td id=\"T_5f405_row51_col0\" class=\"data row51 col0\" >Group Features</td>\n",
       "      <td id=\"T_5f405_row51_col1\" class=\"data row51 col1\" >False</td>\n",
       "    </tr>\n",
       "    <tr>\n",
       "      <th id=\"T_5f405_level0_row52\" class=\"row_heading level0 row52\" >52</th>\n",
       "      <td id=\"T_5f405_row52_col0\" class=\"data row52 col0\" >Feature Selection</td>\n",
       "      <td id=\"T_5f405_row52_col1\" class=\"data row52 col1\" >False</td>\n",
       "    </tr>\n",
       "    <tr>\n",
       "      <th id=\"T_5f405_level0_row53\" class=\"row_heading level0 row53\" >53</th>\n",
       "      <td id=\"T_5f405_row53_col0\" class=\"data row53 col0\" >Feature Selection Method</td>\n",
       "      <td id=\"T_5f405_row53_col1\" class=\"data row53 col1\" >classic</td>\n",
       "    </tr>\n",
       "    <tr>\n",
       "      <th id=\"T_5f405_level0_row54\" class=\"row_heading level0 row54\" >54</th>\n",
       "      <td id=\"T_5f405_row54_col0\" class=\"data row54 col0\" >Features Selection Threshold</td>\n",
       "      <td id=\"T_5f405_row54_col1\" class=\"data row54 col1\" >None</td>\n",
       "    </tr>\n",
       "    <tr>\n",
       "      <th id=\"T_5f405_level0_row55\" class=\"row_heading level0 row55\" >55</th>\n",
       "      <td id=\"T_5f405_row55_col0\" class=\"data row55 col0\" >Feature Interaction</td>\n",
       "      <td id=\"T_5f405_row55_col1\" class=\"data row55 col1\" >False</td>\n",
       "    </tr>\n",
       "    <tr>\n",
       "      <th id=\"T_5f405_level0_row56\" class=\"row_heading level0 row56\" >56</th>\n",
       "      <td id=\"T_5f405_row56_col0\" class=\"data row56 col0\" >Feature Ratio</td>\n",
       "      <td id=\"T_5f405_row56_col1\" class=\"data row56 col1\" >False</td>\n",
       "    </tr>\n",
       "    <tr>\n",
       "      <th id=\"T_5f405_level0_row57\" class=\"row_heading level0 row57\" >57</th>\n",
       "      <td id=\"T_5f405_row57_col0\" class=\"data row57 col0\" >Interaction Threshold</td>\n",
       "      <td id=\"T_5f405_row57_col1\" class=\"data row57 col1\" >None</td>\n",
       "    </tr>\n",
       "    <tr>\n",
       "      <th id=\"T_5f405_level0_row58\" class=\"row_heading level0 row58\" >58</th>\n",
       "      <td id=\"T_5f405_row58_col0\" class=\"data row58 col0\" >Fix Imbalance</td>\n",
       "      <td id=\"T_5f405_row58_col1\" class=\"data row58 col1\" >True</td>\n",
       "    </tr>\n",
       "    <tr>\n",
       "      <th id=\"T_5f405_level0_row59\" class=\"row_heading level0 row59\" >59</th>\n",
       "      <td id=\"T_5f405_row59_col0\" class=\"data row59 col0\" >Fix Imbalance Method</td>\n",
       "      <td id=\"T_5f405_row59_col1\" class=\"data row59 col1\" >SMOTE</td>\n",
       "    </tr>\n",
       "  </tbody>\n",
       "</table>\n"
      ],
      "text/plain": [
       "<pandas.io.formats.style.Styler at 0x7f8e81c41150>"
      ]
     },
     "metadata": {},
     "output_type": "display_data"
    }
   ],
   "source": [
    "s = setup( df[[\"satisfaction\",\"evaluation\",\"averageMonthlyHours\",\"yearsAtCompany\",\"turnover\"]]\n",
    "          ,target = \"turnover\"\n",
    "          ,numeric_features = [\"yearsAtCompany\"]\n",
    "          ,normalize = True\n",
    "          ,normalize_method = \"minmax\"\n",
    "          ,data_split_stratify = True\n",
    "          ,fix_imbalance = True,\n",
    "         )"
   ]
  },
  {
   "cell_type": "markdown",
   "id": "6612ce69",
   "metadata": {},
   "source": [
    "#### Comparando diferentes modelos."
   ]
  },
  {
   "cell_type": "code",
   "execution_count": 59,
   "id": "02172f9a",
   "metadata": {
    "scrolled": false
   },
   "outputs": [
    {
     "data": {
      "text/html": [
       "<style type=\"text/css\">\n",
       "#T_7c4ae_ th {\n",
       "  text-align: left;\n",
       "}\n",
       "#T_7c4ae_row0_col0, #T_7c4ae_row0_col1, #T_7c4ae_row0_col3, #T_7c4ae_row0_col4, #T_7c4ae_row0_col5, #T_7c4ae_row0_col6, #T_7c4ae_row0_col7, #T_7c4ae_row1_col0, #T_7c4ae_row1_col2, #T_7c4ae_row1_col3, #T_7c4ae_row2_col0, #T_7c4ae_row2_col1, #T_7c4ae_row2_col2, #T_7c4ae_row2_col3, #T_7c4ae_row2_col4, #T_7c4ae_row2_col5, #T_7c4ae_row2_col6, #T_7c4ae_row2_col7, #T_7c4ae_row3_col0, #T_7c4ae_row3_col1, #T_7c4ae_row3_col2, #T_7c4ae_row3_col3, #T_7c4ae_row3_col4, #T_7c4ae_row3_col5, #T_7c4ae_row3_col6, #T_7c4ae_row3_col7, #T_7c4ae_row4_col0, #T_7c4ae_row4_col1, #T_7c4ae_row4_col2, #T_7c4ae_row4_col4, #T_7c4ae_row4_col5, #T_7c4ae_row4_col6, #T_7c4ae_row4_col7, #T_7c4ae_row5_col0, #T_7c4ae_row5_col1, #T_7c4ae_row5_col2, #T_7c4ae_row5_col3, #T_7c4ae_row5_col4, #T_7c4ae_row5_col5, #T_7c4ae_row5_col6, #T_7c4ae_row5_col7, #T_7c4ae_row6_col0, #T_7c4ae_row6_col1, #T_7c4ae_row6_col2, #T_7c4ae_row6_col3, #T_7c4ae_row6_col4, #T_7c4ae_row6_col5, #T_7c4ae_row6_col6, #T_7c4ae_row6_col7, #T_7c4ae_row7_col0, #T_7c4ae_row7_col1, #T_7c4ae_row7_col2, #T_7c4ae_row7_col3, #T_7c4ae_row7_col4, #T_7c4ae_row7_col5, #T_7c4ae_row7_col6, #T_7c4ae_row7_col7, #T_7c4ae_row8_col0, #T_7c4ae_row8_col1, #T_7c4ae_row8_col2, #T_7c4ae_row8_col3, #T_7c4ae_row8_col4, #T_7c4ae_row8_col5, #T_7c4ae_row8_col6, #T_7c4ae_row8_col7, #T_7c4ae_row9_col0, #T_7c4ae_row9_col1, #T_7c4ae_row9_col2, #T_7c4ae_row9_col3, #T_7c4ae_row9_col4, #T_7c4ae_row9_col5, #T_7c4ae_row9_col6, #T_7c4ae_row9_col7, #T_7c4ae_row10_col0, #T_7c4ae_row10_col1, #T_7c4ae_row10_col2, #T_7c4ae_row10_col3, #T_7c4ae_row10_col4, #T_7c4ae_row10_col5, #T_7c4ae_row10_col6, #T_7c4ae_row10_col7, #T_7c4ae_row11_col0, #T_7c4ae_row11_col1, #T_7c4ae_row11_col2, #T_7c4ae_row11_col3, #T_7c4ae_row11_col4, #T_7c4ae_row11_col5, #T_7c4ae_row11_col6, #T_7c4ae_row11_col7, #T_7c4ae_row12_col0, #T_7c4ae_row12_col1, #T_7c4ae_row12_col2, #T_7c4ae_row12_col3, #T_7c4ae_row12_col4, #T_7c4ae_row12_col5, #T_7c4ae_row12_col6, #T_7c4ae_row12_col7 {\n",
       "  text-align: left;\n",
       "}\n",
       "#T_7c4ae_row0_col2, #T_7c4ae_row1_col1, #T_7c4ae_row1_col4, #T_7c4ae_row1_col5, #T_7c4ae_row1_col6, #T_7c4ae_row1_col7, #T_7c4ae_row4_col3 {\n",
       "  text-align: left;\n",
       "  background-color: yellow;\n",
       "}\n",
       "#T_7c4ae_row0_col8, #T_7c4ae_row1_col8, #T_7c4ae_row2_col8, #T_7c4ae_row3_col8, #T_7c4ae_row4_col8, #T_7c4ae_row5_col8, #T_7c4ae_row6_col8, #T_7c4ae_row8_col8, #T_7c4ae_row9_col8, #T_7c4ae_row10_col8, #T_7c4ae_row11_col8, #T_7c4ae_row12_col8 {\n",
       "  text-align: left;\n",
       "  background-color: lightgrey;\n",
       "}\n",
       "#T_7c4ae_row7_col8 {\n",
       "  text-align: left;\n",
       "  background-color: yellow;\n",
       "  background-color: lightgrey;\n",
       "}\n",
       "</style>\n",
       "<table id=\"T_7c4ae_\">\n",
       "  <thead>\n",
       "    <tr>\n",
       "      <th class=\"blank level0\" >&nbsp;</th>\n",
       "      <th class=\"col_heading level0 col0\" >Model</th>\n",
       "      <th class=\"col_heading level0 col1\" >Accuracy</th>\n",
       "      <th class=\"col_heading level0 col2\" >AUC</th>\n",
       "      <th class=\"col_heading level0 col3\" >Recall</th>\n",
       "      <th class=\"col_heading level0 col4\" >Prec.</th>\n",
       "      <th class=\"col_heading level0 col5\" >F1</th>\n",
       "      <th class=\"col_heading level0 col6\" >Kappa</th>\n",
       "      <th class=\"col_heading level0 col7\" >MCC</th>\n",
       "      <th class=\"col_heading level0 col8\" >TT (Sec)</th>\n",
       "    </tr>\n",
       "  </thead>\n",
       "  <tbody>\n",
       "    <tr>\n",
       "      <th id=\"T_7c4ae_level0_row0\" class=\"row_heading level0 row0\" >gbc</th>\n",
       "      <td id=\"T_7c4ae_row0_col0\" class=\"data row0 col0\" >Gradient Boosting Classifier</td>\n",
       "      <td id=\"T_7c4ae_row0_col1\" class=\"data row0 col1\" >0.8231</td>\n",
       "      <td id=\"T_7c4ae_row0_col2\" class=\"data row0 col2\" >0.8033</td>\n",
       "      <td id=\"T_7c4ae_row0_col3\" class=\"data row0 col3\" >0.6907</td>\n",
       "      <td id=\"T_7c4ae_row0_col4\" class=\"data row0 col4\" >0.6143</td>\n",
       "      <td id=\"T_7c4ae_row0_col5\" class=\"data row0 col5\" >0.6501</td>\n",
       "      <td id=\"T_7c4ae_row0_col6\" class=\"data row0 col6\" >0.5323</td>\n",
       "      <td id=\"T_7c4ae_row0_col7\" class=\"data row0 col7\" >0.5340</td>\n",
       "      <td id=\"T_7c4ae_row0_col8\" class=\"data row0 col8\" >0.7160</td>\n",
       "    </tr>\n",
       "    <tr>\n",
       "      <th id=\"T_7c4ae_level0_row1\" class=\"row_heading level0 row1\" >lightgbm</th>\n",
       "      <td id=\"T_7c4ae_row1_col0\" class=\"data row1 col0\" >Light Gradient Boosting Machine</td>\n",
       "      <td id=\"T_7c4ae_row1_col1\" class=\"data row1 col1\" >0.8444</td>\n",
       "      <td id=\"T_7c4ae_row1_col2\" class=\"data row1 col2\" >0.8000</td>\n",
       "      <td id=\"T_7c4ae_row1_col3\" class=\"data row1 col3\" >0.6522</td>\n",
       "      <td id=\"T_7c4ae_row1_col4\" class=\"data row1 col4\" >0.6804</td>\n",
       "      <td id=\"T_7c4ae_row1_col5\" class=\"data row1 col5\" >0.6660</td>\n",
       "      <td id=\"T_7c4ae_row1_col6\" class=\"data row1 col6\" >0.5646</td>\n",
       "      <td id=\"T_7c4ae_row1_col7\" class=\"data row1 col7\" >0.5648</td>\n",
       "      <td id=\"T_7c4ae_row1_col8\" class=\"data row1 col8\" >0.6500</td>\n",
       "    </tr>\n",
       "    <tr>\n",
       "      <th id=\"T_7c4ae_level0_row2\" class=\"row_heading level0 row2\" >ada</th>\n",
       "      <td id=\"T_7c4ae_row2_col0\" class=\"data row2 col0\" >Ada Boost Classifier</td>\n",
       "      <td id=\"T_7c4ae_row2_col1\" class=\"data row2 col1\" >0.8000</td>\n",
       "      <td id=\"T_7c4ae_row2_col2\" class=\"data row2 col2\" >0.7956</td>\n",
       "      <td id=\"T_7c4ae_row2_col3\" class=\"data row2 col3\" >0.7063</td>\n",
       "      <td id=\"T_7c4ae_row2_col4\" class=\"data row2 col4\" >0.5638</td>\n",
       "      <td id=\"T_7c4ae_row2_col5\" class=\"data row2 col5\" >0.6269</td>\n",
       "      <td id=\"T_7c4ae_row2_col6\" class=\"data row2 col6\" >0.4926</td>\n",
       "      <td id=\"T_7c4ae_row2_col7\" class=\"data row2 col7\" >0.4986</td>\n",
       "      <td id=\"T_7c4ae_row2_col8\" class=\"data row2 col8\" >0.3140</td>\n",
       "    </tr>\n",
       "    <tr>\n",
       "      <th id=\"T_7c4ae_level0_row3\" class=\"row_heading level0 row3\" >rf</th>\n",
       "      <td id=\"T_7c4ae_row3_col0\" class=\"data row3 col0\" >Random Forest Classifier</td>\n",
       "      <td id=\"T_7c4ae_row3_col1\" class=\"data row3 col1\" >0.8086</td>\n",
       "      <td id=\"T_7c4ae_row3_col2\" class=\"data row3 col2\" >0.7760</td>\n",
       "      <td id=\"T_7c4ae_row3_col3\" class=\"data row3 col3\" >0.5542</td>\n",
       "      <td id=\"T_7c4ae_row3_col4\" class=\"data row3 col4\" >0.6078</td>\n",
       "      <td id=\"T_7c4ae_row3_col5\" class=\"data row3 col5\" >0.5794</td>\n",
       "      <td id=\"T_7c4ae_row3_col6\" class=\"data row3 col6\" >0.4559</td>\n",
       "      <td id=\"T_7c4ae_row3_col7\" class=\"data row3 col7\" >0.4570</td>\n",
       "      <td id=\"T_7c4ae_row3_col8\" class=\"data row3 col8\" >1.4340</td>\n",
       "    </tr>\n",
       "    <tr>\n",
       "      <th id=\"T_7c4ae_level0_row4\" class=\"row_heading level0 row4\" >qda</th>\n",
       "      <td id=\"T_7c4ae_row4_col0\" class=\"data row4 col0\" >Quadratic Discriminant Analysis</td>\n",
       "      <td id=\"T_7c4ae_row4_col1\" class=\"data row4 col1\" >0.7256</td>\n",
       "      <td id=\"T_7c4ae_row4_col2\" class=\"data row4 col2\" >0.7566</td>\n",
       "      <td id=\"T_7c4ae_row4_col3\" class=\"data row4 col3\" >0.7491</td>\n",
       "      <td id=\"T_7c4ae_row4_col4\" class=\"data row4 col4\" >0.4535</td>\n",
       "      <td id=\"T_7c4ae_row4_col5\" class=\"data row4 col5\" >0.5649</td>\n",
       "      <td id=\"T_7c4ae_row4_col6\" class=\"data row4 col6\" >0.3817</td>\n",
       "      <td id=\"T_7c4ae_row4_col7\" class=\"data row4 col7\" >0.4075</td>\n",
       "      <td id=\"T_7c4ae_row4_col8\" class=\"data row4 col8\" >0.3100</td>\n",
       "    </tr>\n",
       "    <tr>\n",
       "      <th id=\"T_7c4ae_level0_row5\" class=\"row_heading level0 row5\" >knn</th>\n",
       "      <td id=\"T_7c4ae_row5_col0\" class=\"data row5 col0\" >K Neighbors Classifier</td>\n",
       "      <td id=\"T_7c4ae_row5_col1\" class=\"data row5 col1\" >0.7359</td>\n",
       "      <td id=\"T_7c4ae_row5_col2\" class=\"data row5 col2\" >0.7526</td>\n",
       "      <td id=\"T_7c4ae_row5_col3\" class=\"data row5 col3\" >0.6831</td>\n",
       "      <td id=\"T_7c4ae_row5_col4\" class=\"data row5 col4\" >0.4628</td>\n",
       "      <td id=\"T_7c4ae_row5_col5\" class=\"data row5 col5\" >0.5518</td>\n",
       "      <td id=\"T_7c4ae_row5_col6\" class=\"data row5 col6\" >0.3742</td>\n",
       "      <td id=\"T_7c4ae_row5_col7\" class=\"data row5 col7\" >0.3885</td>\n",
       "      <td id=\"T_7c4ae_row5_col8\" class=\"data row5 col8\" >0.3420</td>\n",
       "    </tr>\n",
       "    <tr>\n",
       "      <th id=\"T_7c4ae_level0_row6\" class=\"row_heading level0 row6\" >et</th>\n",
       "      <td id=\"T_7c4ae_row6_col0\" class=\"data row6 col0\" >Extra Trees Classifier</td>\n",
       "      <td id=\"T_7c4ae_row6_col1\" class=\"data row6 col1\" >0.7963</td>\n",
       "      <td id=\"T_7c4ae_row6_col2\" class=\"data row6 col2\" >0.7460</td>\n",
       "      <td id=\"T_7c4ae_row6_col3\" class=\"data row6 col3\" >0.5186</td>\n",
       "      <td id=\"T_7c4ae_row6_col4\" class=\"data row6 col4\" >0.5810</td>\n",
       "      <td id=\"T_7c4ae_row6_col5\" class=\"data row6 col5\" >0.5477</td>\n",
       "      <td id=\"T_7c4ae_row6_col6\" class=\"data row6 col6\" >0.4169</td>\n",
       "      <td id=\"T_7c4ae_row6_col7\" class=\"data row6 col7\" >0.4182</td>\n",
       "      <td id=\"T_7c4ae_row6_col8\" class=\"data row6 col8\" >0.8460</td>\n",
       "    </tr>\n",
       "    <tr>\n",
       "      <th id=\"T_7c4ae_level0_row7\" class=\"row_heading level0 row7\" >nb</th>\n",
       "      <td id=\"T_7c4ae_row7_col0\" class=\"data row7 col0\" >Naive Bayes</td>\n",
       "      <td id=\"T_7c4ae_row7_col1\" class=\"data row7 col1\" >0.7158</td>\n",
       "      <td id=\"T_7c4ae_row7_col2\" class=\"data row7 col2\" >0.7193</td>\n",
       "      <td id=\"T_7c4ae_row7_col3\" class=\"data row7 col3\" >0.5874</td>\n",
       "      <td id=\"T_7c4ae_row7_col4\" class=\"data row7 col4\" >0.4290</td>\n",
       "      <td id=\"T_7c4ae_row7_col5\" class=\"data row7 col5\" >0.4958</td>\n",
       "      <td id=\"T_7c4ae_row7_col6\" class=\"data row7 col6\" >0.3045</td>\n",
       "      <td id=\"T_7c4ae_row7_col7\" class=\"data row7 col7\" >0.3119</td>\n",
       "      <td id=\"T_7c4ae_row7_col8\" class=\"data row7 col8\" >0.0360</td>\n",
       "    </tr>\n",
       "    <tr>\n",
       "      <th id=\"T_7c4ae_level0_row8\" class=\"row_heading level0 row8\" >lr</th>\n",
       "      <td id=\"T_7c4ae_row8_col0\" class=\"data row8 col0\" >Logistic Regression</td>\n",
       "      <td id=\"T_7c4ae_row8_col1\" class=\"data row8 col1\" >0.6780</td>\n",
       "      <td id=\"T_7c4ae_row8_col2\" class=\"data row8 col2\" >0.6974</td>\n",
       "      <td id=\"T_7c4ae_row8_col3\" class=\"data row8 col3\" >0.6310</td>\n",
       "      <td id=\"T_7c4ae_row8_col4\" class=\"data row8 col4\" >0.3908</td>\n",
       "      <td id=\"T_7c4ae_row8_col5\" class=\"data row8 col5\" >0.4825</td>\n",
       "      <td id=\"T_7c4ae_row8_col6\" class=\"data row8 col6\" >0.2671</td>\n",
       "      <td id=\"T_7c4ae_row8_col7\" class=\"data row8 col7\" >0.2835</td>\n",
       "      <td id=\"T_7c4ae_row8_col8\" class=\"data row8 col8\" >1.4460</td>\n",
       "    </tr>\n",
       "    <tr>\n",
       "      <th id=\"T_7c4ae_level0_row9\" class=\"row_heading level0 row9\" >lda</th>\n",
       "      <td id=\"T_7c4ae_row9_col0\" class=\"data row9 col0\" >Linear Discriminant Analysis</td>\n",
       "      <td id=\"T_7c4ae_row9_col1\" class=\"data row9 col1\" >0.6808</td>\n",
       "      <td id=\"T_7c4ae_row9_col2\" class=\"data row9 col2\" >0.6965</td>\n",
       "      <td id=\"T_7c4ae_row9_col3\" class=\"data row9 col3\" >0.6262</td>\n",
       "      <td id=\"T_7c4ae_row9_col4\" class=\"data row9 col4\" >0.3929</td>\n",
       "      <td id=\"T_7c4ae_row9_col5\" class=\"data row9 col5\" >0.4827</td>\n",
       "      <td id=\"T_7c4ae_row9_col6\" class=\"data row9 col6\" >0.2690</td>\n",
       "      <td id=\"T_7c4ae_row9_col7\" class=\"data row9 col7\" >0.2845</td>\n",
       "      <td id=\"T_7c4ae_row9_col8\" class=\"data row9 col8\" >0.3740</td>\n",
       "    </tr>\n",
       "    <tr>\n",
       "      <th id=\"T_7c4ae_level0_row10\" class=\"row_heading level0 row10\" >dt</th>\n",
       "      <td id=\"T_7c4ae_row10_col0\" class=\"data row10 col0\" >Decision Tree Classifier</td>\n",
       "      <td id=\"T_7c4ae_row10_col1\" class=\"data row10 col1\" >0.7274</td>\n",
       "      <td id=\"T_7c4ae_row10_col2\" class=\"data row10 col2\" >0.6503</td>\n",
       "      <td id=\"T_7c4ae_row10_col3\" class=\"data row10 col3\" >0.4818</td>\n",
       "      <td id=\"T_7c4ae_row10_col4\" class=\"data row10 col4\" >0.4346</td>\n",
       "      <td id=\"T_7c4ae_row10_col5\" class=\"data row10 col5\" >0.4568</td>\n",
       "      <td id=\"T_7c4ae_row10_col6\" class=\"data row10 col6\" >0.2755</td>\n",
       "      <td id=\"T_7c4ae_row10_col7\" class=\"data row10 col7\" >0.2763</td>\n",
       "      <td id=\"T_7c4ae_row10_col8\" class=\"data row10 col8\" >0.0780</td>\n",
       "    </tr>\n",
       "    <tr>\n",
       "      <th id=\"T_7c4ae_level0_row11\" class=\"row_heading level0 row11\" >svm</th>\n",
       "      <td id=\"T_7c4ae_row11_col0\" class=\"data row11 col0\" >SVM - Linear Kernel</td>\n",
       "      <td id=\"T_7c4ae_row11_col1\" class=\"data row11 col1\" >0.6820</td>\n",
       "      <td id=\"T_7c4ae_row11_col2\" class=\"data row11 col2\" >0.0000</td>\n",
       "      <td id=\"T_7c4ae_row11_col3\" class=\"data row11 col3\" >0.6130</td>\n",
       "      <td id=\"T_7c4ae_row11_col4\" class=\"data row11 col4\" >0.3962</td>\n",
       "      <td id=\"T_7c4ae_row11_col5\" class=\"data row11 col5\" >0.4792</td>\n",
       "      <td id=\"T_7c4ae_row11_col6\" class=\"data row11 col6\" >0.2670</td>\n",
       "      <td id=\"T_7c4ae_row11_col7\" class=\"data row11 col7\" >0.2812</td>\n",
       "      <td id=\"T_7c4ae_row11_col8\" class=\"data row11 col8\" >0.0920</td>\n",
       "    </tr>\n",
       "    <tr>\n",
       "      <th id=\"T_7c4ae_level0_row12\" class=\"row_heading level0 row12\" >ridge</th>\n",
       "      <td id=\"T_7c4ae_row12_col0\" class=\"data row12 col0\" >Ridge Classifier</td>\n",
       "      <td id=\"T_7c4ae_row12_col1\" class=\"data row12 col1\" >0.6807</td>\n",
       "      <td id=\"T_7c4ae_row12_col2\" class=\"data row12 col2\" >0.0000</td>\n",
       "      <td id=\"T_7c4ae_row12_col3\" class=\"data row12 col3\" >0.6262</td>\n",
       "      <td id=\"T_7c4ae_row12_col4\" class=\"data row12 col4\" >0.3928</td>\n",
       "      <td id=\"T_7c4ae_row12_col5\" class=\"data row12 col5\" >0.4827</td>\n",
       "      <td id=\"T_7c4ae_row12_col6\" class=\"data row12 col6\" >0.2689</td>\n",
       "      <td id=\"T_7c4ae_row12_col7\" class=\"data row12 col7\" >0.2844</td>\n",
       "      <td id=\"T_7c4ae_row12_col8\" class=\"data row12 col8\" >0.2460</td>\n",
       "    </tr>\n",
       "  </tbody>\n",
       "</table>\n"
      ],
      "text/plain": [
       "<pandas.io.formats.style.Styler at 0x7f8e81de21d0>"
      ]
     },
     "metadata": {},
     "output_type": "display_data"
    }
   ],
   "source": [
    "best = compare_models(fold = 5,sort = 'AUC',)"
   ]
  },
  {
   "cell_type": "markdown",
   "id": "d6af08bc",
   "metadata": {},
   "source": [
    "#### Criando o modelo."
   ]
  },
  {
   "cell_type": "code",
   "execution_count": 60,
   "id": "edcf1615",
   "metadata": {},
   "outputs": [
    {
     "data": {
      "text/html": [
       "<style type=\"text/css\">\n",
       "#T_5d470_row5_col0, #T_5d470_row5_col1, #T_5d470_row5_col2, #T_5d470_row5_col3, #T_5d470_row5_col4, #T_5d470_row5_col5, #T_5d470_row5_col6 {\n",
       "  background: yellow;\n",
       "}\n",
       "</style>\n",
       "<table id=\"T_5d470_\">\n",
       "  <thead>\n",
       "    <tr>\n",
       "      <th class=\"blank level0\" >&nbsp;</th>\n",
       "      <th class=\"col_heading level0 col0\" >Accuracy</th>\n",
       "      <th class=\"col_heading level0 col1\" >AUC</th>\n",
       "      <th class=\"col_heading level0 col2\" >Recall</th>\n",
       "      <th class=\"col_heading level0 col3\" >Prec.</th>\n",
       "      <th class=\"col_heading level0 col4\" >F1</th>\n",
       "      <th class=\"col_heading level0 col5\" >Kappa</th>\n",
       "      <th class=\"col_heading level0 col6\" >MCC</th>\n",
       "    </tr>\n",
       "  </thead>\n",
       "  <tbody>\n",
       "    <tr>\n",
       "      <th id=\"T_5d470_level0_row0\" class=\"row_heading level0 row0\" >0</th>\n",
       "      <td id=\"T_5d470_row0_col0\" class=\"data row0 col0\" >0.8143</td>\n",
       "      <td id=\"T_5d470_row0_col1\" class=\"data row0 col1\" >0.7784</td>\n",
       "      <td id=\"T_5d470_row0_col2\" class=\"data row0 col2\" >0.6580</td>\n",
       "      <td id=\"T_5d470_row0_col3\" class=\"data row0 col3\" >0.6004</td>\n",
       "      <td id=\"T_5d470_row0_col4\" class=\"data row0 col4\" >0.6279</td>\n",
       "      <td id=\"T_5d470_row0_col5\" class=\"data row0 col5\" >0.5045</td>\n",
       "      <td id=\"T_5d470_row0_col6\" class=\"data row0 col6\" >0.5054</td>\n",
       "    </tr>\n",
       "    <tr>\n",
       "      <th id=\"T_5d470_level0_row1\" class=\"row_heading level0 row1\" >1</th>\n",
       "      <td id=\"T_5d470_row1_col0\" class=\"data row1 col0\" >0.8395</td>\n",
       "      <td id=\"T_5d470_row1_col1\" class=\"data row1 col1\" >0.8407</td>\n",
       "      <td id=\"T_5d470_row1_col2\" class=\"data row1 col2\" >0.7400</td>\n",
       "      <td id=\"T_5d470_row1_col3\" class=\"data row1 col3\" >0.6412</td>\n",
       "      <td id=\"T_5d470_row1_col4\" class=\"data row1 col4\" >0.6871</td>\n",
       "      <td id=\"T_5d470_row1_col5\" class=\"data row1 col5\" >0.5799</td>\n",
       "      <td id=\"T_5d470_row1_col6\" class=\"data row1 col6\" >0.5826</td>\n",
       "    </tr>\n",
       "    <tr>\n",
       "      <th id=\"T_5d470_level0_row2\" class=\"row_heading level0 row2\" >2</th>\n",
       "      <td id=\"T_5d470_row2_col0\" class=\"data row2 col0\" >0.8295</td>\n",
       "      <td id=\"T_5d470_row2_col1\" class=\"data row2 col1\" >0.8052</td>\n",
       "      <td id=\"T_5d470_row2_col2\" class=\"data row2 col2\" >0.6880</td>\n",
       "      <td id=\"T_5d470_row2_col3\" class=\"data row2 col3\" >0.6300</td>\n",
       "      <td id=\"T_5d470_row2_col4\" class=\"data row2 col4\" >0.6577</td>\n",
       "      <td id=\"T_5d470_row2_col5\" class=\"data row2 col5\" >0.5445</td>\n",
       "      <td id=\"T_5d470_row2_col6\" class=\"data row2 col6\" >0.5455</td>\n",
       "    </tr>\n",
       "    <tr>\n",
       "      <th id=\"T_5d470_level0_row3\" class=\"row_heading level0 row3\" >3</th>\n",
       "      <td id=\"T_5d470_row3_col0\" class=\"data row3 col0\" >0.8271</td>\n",
       "      <td id=\"T_5d470_row3_col1\" class=\"data row3 col1\" >0.8146</td>\n",
       "      <td id=\"T_5d470_row3_col2\" class=\"data row3 col2\" >0.7000</td>\n",
       "      <td id=\"T_5d470_row3_col3\" class=\"data row3 col3\" >0.6217</td>\n",
       "      <td id=\"T_5d470_row3_col4\" class=\"data row3 col4\" >0.6585</td>\n",
       "      <td id=\"T_5d470_row3_col5\" class=\"data row3 col5\" >0.5433</td>\n",
       "      <td id=\"T_5d470_row3_col6\" class=\"data row3 col6\" >0.5450</td>\n",
       "    </tr>\n",
       "    <tr>\n",
       "      <th id=\"T_5d470_level0_row4\" class=\"row_heading level0 row4\" >4</th>\n",
       "      <td id=\"T_5d470_row4_col0\" class=\"data row4 col0\" >0.8051</td>\n",
       "      <td id=\"T_5d470_row4_col1\" class=\"data row4 col1\" >0.7777</td>\n",
       "      <td id=\"T_5d470_row4_col2\" class=\"data row4 col2\" >0.6673</td>\n",
       "      <td id=\"T_5d470_row4_col3\" class=\"data row4 col3\" >0.5781</td>\n",
       "      <td id=\"T_5d470_row4_col4\" class=\"data row4 col4\" >0.6195</td>\n",
       "      <td id=\"T_5d470_row4_col5\" class=\"data row4 col5\" >0.4895</td>\n",
       "      <td id=\"T_5d470_row4_col6\" class=\"data row4 col6\" >0.4917</td>\n",
       "    </tr>\n",
       "    <tr>\n",
       "      <th id=\"T_5d470_level0_row5\" class=\"row_heading level0 row5\" >Mean</th>\n",
       "      <td id=\"T_5d470_row5_col0\" class=\"data row5 col0\" >0.8231</td>\n",
       "      <td id=\"T_5d470_row5_col1\" class=\"data row5 col1\" >0.8033</td>\n",
       "      <td id=\"T_5d470_row5_col2\" class=\"data row5 col2\" >0.6907</td>\n",
       "      <td id=\"T_5d470_row5_col3\" class=\"data row5 col3\" >0.6143</td>\n",
       "      <td id=\"T_5d470_row5_col4\" class=\"data row5 col4\" >0.6501</td>\n",
       "      <td id=\"T_5d470_row5_col5\" class=\"data row5 col5\" >0.5323</td>\n",
       "      <td id=\"T_5d470_row5_col6\" class=\"data row5 col6\" >0.5340</td>\n",
       "    </tr>\n",
       "    <tr>\n",
       "      <th id=\"T_5d470_level0_row6\" class=\"row_heading level0 row6\" >SD</th>\n",
       "      <td id=\"T_5d470_row6_col0\" class=\"data row6 col0\" >0.0121</td>\n",
       "      <td id=\"T_5d470_row6_col1\" class=\"data row6 col1\" >0.0237</td>\n",
       "      <td id=\"T_5d470_row6_col2\" class=\"data row6 col2\" >0.0288</td>\n",
       "      <td id=\"T_5d470_row6_col3\" class=\"data row6 col3\" >0.0225</td>\n",
       "      <td id=\"T_5d470_row6_col4\" class=\"data row6 col4\" >0.0242</td>\n",
       "      <td id=\"T_5d470_row6_col5\" class=\"data row6 col5\" >0.0321</td>\n",
       "      <td id=\"T_5d470_row6_col6\" class=\"data row6 col6\" >0.0323</td>\n",
       "    </tr>\n",
       "  </tbody>\n",
       "</table>\n"
      ],
      "text/plain": [
       "<pandas.io.formats.style.Styler at 0x7f8e81c5a250>"
      ]
     },
     "metadata": {},
     "output_type": "display_data"
    }
   ],
   "source": [
    "gbc = create_model('gbc', fold = 5)"
   ]
  },
  {
   "cell_type": "markdown",
   "id": "22ab7ba2",
   "metadata": {},
   "source": [
    "#### Realizando o tunning do modelo."
   ]
  },
  {
   "cell_type": "code",
   "execution_count": 61,
   "id": "3f02f806",
   "metadata": {
    "scrolled": true
   },
   "outputs": [
    {
     "data": {
      "text/html": [
       "<style type=\"text/css\">\n",
       "#T_f99dc_row5_col0, #T_f99dc_row5_col1, #T_f99dc_row5_col2, #T_f99dc_row5_col3, #T_f99dc_row5_col4, #T_f99dc_row5_col5, #T_f99dc_row5_col6 {\n",
       "  background: yellow;\n",
       "}\n",
       "</style>\n",
       "<table id=\"T_f99dc_\">\n",
       "  <thead>\n",
       "    <tr>\n",
       "      <th class=\"blank level0\" >&nbsp;</th>\n",
       "      <th class=\"col_heading level0 col0\" >Accuracy</th>\n",
       "      <th class=\"col_heading level0 col1\" >AUC</th>\n",
       "      <th class=\"col_heading level0 col2\" >Recall</th>\n",
       "      <th class=\"col_heading level0 col3\" >Prec.</th>\n",
       "      <th class=\"col_heading level0 col4\" >F1</th>\n",
       "      <th class=\"col_heading level0 col5\" >Kappa</th>\n",
       "      <th class=\"col_heading level0 col6\" >MCC</th>\n",
       "    </tr>\n",
       "  </thead>\n",
       "  <tbody>\n",
       "    <tr>\n",
       "      <th id=\"T_f99dc_level0_row0\" class=\"row_heading level0 row0\" >0</th>\n",
       "      <td id=\"T_f99dc_row0_col0\" class=\"data row0 col0\" >0.8143</td>\n",
       "      <td id=\"T_f99dc_row0_col1\" class=\"data row0 col1\" >0.7784</td>\n",
       "      <td id=\"T_f99dc_row0_col2\" class=\"data row0 col2\" >0.6580</td>\n",
       "      <td id=\"T_f99dc_row0_col3\" class=\"data row0 col3\" >0.6004</td>\n",
       "      <td id=\"T_f99dc_row0_col4\" class=\"data row0 col4\" >0.6279</td>\n",
       "      <td id=\"T_f99dc_row0_col5\" class=\"data row0 col5\" >0.5045</td>\n",
       "      <td id=\"T_f99dc_row0_col6\" class=\"data row0 col6\" >0.5054</td>\n",
       "    </tr>\n",
       "    <tr>\n",
       "      <th id=\"T_f99dc_level0_row1\" class=\"row_heading level0 row1\" >1</th>\n",
       "      <td id=\"T_f99dc_row1_col0\" class=\"data row1 col0\" >0.8395</td>\n",
       "      <td id=\"T_f99dc_row1_col1\" class=\"data row1 col1\" >0.8407</td>\n",
       "      <td id=\"T_f99dc_row1_col2\" class=\"data row1 col2\" >0.7400</td>\n",
       "      <td id=\"T_f99dc_row1_col3\" class=\"data row1 col3\" >0.6412</td>\n",
       "      <td id=\"T_f99dc_row1_col4\" class=\"data row1 col4\" >0.6871</td>\n",
       "      <td id=\"T_f99dc_row1_col5\" class=\"data row1 col5\" >0.5799</td>\n",
       "      <td id=\"T_f99dc_row1_col6\" class=\"data row1 col6\" >0.5826</td>\n",
       "    </tr>\n",
       "    <tr>\n",
       "      <th id=\"T_f99dc_level0_row2\" class=\"row_heading level0 row2\" >2</th>\n",
       "      <td id=\"T_f99dc_row2_col0\" class=\"data row2 col0\" >0.8295</td>\n",
       "      <td id=\"T_f99dc_row2_col1\" class=\"data row2 col1\" >0.8052</td>\n",
       "      <td id=\"T_f99dc_row2_col2\" class=\"data row2 col2\" >0.6880</td>\n",
       "      <td id=\"T_f99dc_row2_col3\" class=\"data row2 col3\" >0.6300</td>\n",
       "      <td id=\"T_f99dc_row2_col4\" class=\"data row2 col4\" >0.6577</td>\n",
       "      <td id=\"T_f99dc_row2_col5\" class=\"data row2 col5\" >0.5445</td>\n",
       "      <td id=\"T_f99dc_row2_col6\" class=\"data row2 col6\" >0.5455</td>\n",
       "    </tr>\n",
       "    <tr>\n",
       "      <th id=\"T_f99dc_level0_row3\" class=\"row_heading level0 row3\" >3</th>\n",
       "      <td id=\"T_f99dc_row3_col0\" class=\"data row3 col0\" >0.8271</td>\n",
       "      <td id=\"T_f99dc_row3_col1\" class=\"data row3 col1\" >0.8146</td>\n",
       "      <td id=\"T_f99dc_row3_col2\" class=\"data row3 col2\" >0.7000</td>\n",
       "      <td id=\"T_f99dc_row3_col3\" class=\"data row3 col3\" >0.6217</td>\n",
       "      <td id=\"T_f99dc_row3_col4\" class=\"data row3 col4\" >0.6585</td>\n",
       "      <td id=\"T_f99dc_row3_col5\" class=\"data row3 col5\" >0.5433</td>\n",
       "      <td id=\"T_f99dc_row3_col6\" class=\"data row3 col6\" >0.5450</td>\n",
       "    </tr>\n",
       "    <tr>\n",
       "      <th id=\"T_f99dc_level0_row4\" class=\"row_heading level0 row4\" >4</th>\n",
       "      <td id=\"T_f99dc_row4_col0\" class=\"data row4 col0\" >0.8051</td>\n",
       "      <td id=\"T_f99dc_row4_col1\" class=\"data row4 col1\" >0.7777</td>\n",
       "      <td id=\"T_f99dc_row4_col2\" class=\"data row4 col2\" >0.6673</td>\n",
       "      <td id=\"T_f99dc_row4_col3\" class=\"data row4 col3\" >0.5781</td>\n",
       "      <td id=\"T_f99dc_row4_col4\" class=\"data row4 col4\" >0.6195</td>\n",
       "      <td id=\"T_f99dc_row4_col5\" class=\"data row4 col5\" >0.4895</td>\n",
       "      <td id=\"T_f99dc_row4_col6\" class=\"data row4 col6\" >0.4917</td>\n",
       "    </tr>\n",
       "    <tr>\n",
       "      <th id=\"T_f99dc_level0_row5\" class=\"row_heading level0 row5\" >Mean</th>\n",
       "      <td id=\"T_f99dc_row5_col0\" class=\"data row5 col0\" >0.8231</td>\n",
       "      <td id=\"T_f99dc_row5_col1\" class=\"data row5 col1\" >0.8033</td>\n",
       "      <td id=\"T_f99dc_row5_col2\" class=\"data row5 col2\" >0.6907</td>\n",
       "      <td id=\"T_f99dc_row5_col3\" class=\"data row5 col3\" >0.6143</td>\n",
       "      <td id=\"T_f99dc_row5_col4\" class=\"data row5 col4\" >0.6501</td>\n",
       "      <td id=\"T_f99dc_row5_col5\" class=\"data row5 col5\" >0.5323</td>\n",
       "      <td id=\"T_f99dc_row5_col6\" class=\"data row5 col6\" >0.5340</td>\n",
       "    </tr>\n",
       "    <tr>\n",
       "      <th id=\"T_f99dc_level0_row6\" class=\"row_heading level0 row6\" >SD</th>\n",
       "      <td id=\"T_f99dc_row6_col0\" class=\"data row6 col0\" >0.0121</td>\n",
       "      <td id=\"T_f99dc_row6_col1\" class=\"data row6 col1\" >0.0237</td>\n",
       "      <td id=\"T_f99dc_row6_col2\" class=\"data row6 col2\" >0.0288</td>\n",
       "      <td id=\"T_f99dc_row6_col3\" class=\"data row6 col3\" >0.0225</td>\n",
       "      <td id=\"T_f99dc_row6_col4\" class=\"data row6 col4\" >0.0242</td>\n",
       "      <td id=\"T_f99dc_row6_col5\" class=\"data row6 col5\" >0.0321</td>\n",
       "      <td id=\"T_f99dc_row6_col6\" class=\"data row6 col6\" >0.0323</td>\n",
       "    </tr>\n",
       "  </tbody>\n",
       "</table>\n"
      ],
      "text/plain": [
       "<pandas.io.formats.style.Styler at 0x7f8eadc95490>"
      ]
     },
     "metadata": {},
     "output_type": "display_data"
    }
   ],
   "source": [
    "tuned_gbc = tune_model(gbc\n",
    "                      ,fold = 5\n",
    "                      ,custom_grid = {\"learning_rate\":[0.1,0.2,0.5]\n",
    "                                     ,\"n_estimators\":[100,500,1000]\n",
    "                                     ,\"min_samples_split\":[1,2,5,10]\n",
    "                                     ,\"max_depth\":[1,3,9]\n",
    "                                     }\n",
    "                      ,optimize = 'AUC')"
   ]
  },
  {
   "cell_type": "markdown",
   "id": "b498f3ab",
   "metadata": {},
   "source": [
    "#### Finalizando o modelo."
   ]
  },
  {
   "cell_type": "code",
   "execution_count": 62,
   "id": "3b110ac6",
   "metadata": {},
   "outputs": [],
   "source": [
    "final_model = finalize_model(tuned_gbc)"
   ]
  },
  {
   "cell_type": "code",
   "execution_count": 63,
   "id": "d0a246f8",
   "metadata": {},
   "outputs": [
    {
     "name": "stdout",
     "output_type": "stream",
     "text": [
      "Transformation Pipeline and Model Successfully Saved\n"
     ]
    },
    {
     "data": {
      "text/plain": [
       "(Pipeline(memory=None,\n",
       "          steps=[('dtypes',\n",
       "                  DataTypes_Auto_infer(categorical_features=[],\n",
       "                                       display_types=True, features_todrop=[],\n",
       "                                       id_columns=[],\n",
       "                                       ml_usecase='classification',\n",
       "                                       numerical_features=['yearsAtCompany'],\n",
       "                                       target='turnover', time_features=[])),\n",
       "                 ('imputer',\n",
       "                  Simple_Imputer(categorical_strategy='not_available',\n",
       "                                 fill_value_categorical=None,\n",
       "                                 fill_value_numerical=...\n",
       "                                             learning_rate=0.1, loss='deviance',\n",
       "                                             max_depth=3, max_features=None,\n",
       "                                             max_leaf_nodes=None,\n",
       "                                             min_impurity_decrease=0.0,\n",
       "                                             min_impurity_split=None,\n",
       "                                             min_samples_leaf=1,\n",
       "                                             min_samples_split=2,\n",
       "                                             min_weight_fraction_leaf=0.0,\n",
       "                                             n_estimators=100,\n",
       "                                             n_iter_no_change=None,\n",
       "                                             presort='deprecated',\n",
       "                                             random_state=2557, subsample=1.0,\n",
       "                                             tol=0.0001, validation_fraction=0.1,\n",
       "                                             verbose=0, warm_start=False)]],\n",
       "          verbose=False),\n",
       " 'model.pkl')"
      ]
     },
     "execution_count": 63,
     "metadata": {},
     "output_type": "execute_result"
    }
   ],
   "source": [
    "save_model(final_model,'model')"
   ]
  },
  {
   "cell_type": "markdown",
   "id": "a87ed577",
   "metadata": {},
   "source": [
    "#### Transferindo os arquivos para o Data Lake."
   ]
  },
  {
   "cell_type": "markdown",
   "id": "3e254c1c",
   "metadata": {},
   "source": [
    "#### Modelo de Classificação."
   ]
  },
  {
   "cell_type": "code",
   "execution_count": 64,
   "id": "b438b749",
   "metadata": {},
   "outputs": [
    {
     "data": {
      "text/plain": [
       "<minio.helpers.ObjectWriteResult at 0x7f8eadcba690>"
      ]
     },
     "execution_count": 64,
     "metadata": {},
     "output_type": "execute_result"
    }
   ],
   "source": [
    "client.fput_object(\n",
    "    \"curated\",\n",
    "    \"model.pkl\",\n",
    "    \"model.pkl\"\n",
    ")"
   ]
  },
  {
   "cell_type": "markdown",
   "id": "c8fa009d",
   "metadata": {},
   "source": [
    "#### Exportando o conjunto de dados para o disco."
   ]
  },
  {
   "cell_type": "code",
   "execution_count": 65,
   "id": "a65fc51b",
   "metadata": {
    "scrolled": true
   },
   "outputs": [],
   "source": [
    "df.to_csv(\"dataset.csv\",index=False)"
   ]
  },
  {
   "cell_type": "code",
   "execution_count": 66,
   "id": "bc43bf6c",
   "metadata": {},
   "outputs": [
    {
     "data": {
      "text/plain": [
       "<minio.helpers.ObjectWriteResult at 0x7f8eadc95b90>"
      ]
     },
     "execution_count": 66,
     "metadata": {},
     "output_type": "execute_result"
    }
   ],
   "source": [
    "client.fput_object(\n",
    "    \"curated\",\n",
    "    \"dataset.csv\",\n",
    "    \"dataset.csv\"\n",
    ")"
   ]
  }
 ],
 "metadata": {
  "kernelspec": {
   "display_name": "Python 3 (ipykernel)",
   "language": "python",
   "name": "python3"
  },
  "language_info": {
   "codemirror_mode": {
    "name": "ipython",
    "version": 3
   },
   "file_extension": ".py",
   "mimetype": "text/x-python",
   "name": "python",
   "nbconvert_exporter": "python",
   "pygments_lexer": "ipython3",
   "version": "3.7.11"
  }
 },
 "nbformat": 4,
 "nbformat_minor": 5
}
